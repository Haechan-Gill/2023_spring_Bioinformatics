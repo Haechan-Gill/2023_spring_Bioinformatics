{
 "cells": [
  {
   "cell_type": "markdown",
   "metadata": {
    "id": "_SmTogjeMD47"
   },
   "source": [
    "# 생물정보학 및 실습 1 - Term Project용 환경 셋업\n",
    "\n",
    "```\n",
    "생물정보학 및 실습 1\n",
    "서울대학교 생물정보학전공/생명과학부 2023년 1학기\n",
    "\n",
    "이 노트북은 Creative Commons BY-SA 조건으로 재사용 가능합니다.\n",
    "장혜식 <hyeshik@snu.ac.kr>, 서울대학교 생명과학부\n",
    "```\n",
    "\n",
    "이 노트북은 Google Colab을 이용해서 Term Project를 할 수 있도록 환경을 준비해 줍니다. 터미널 사용이 원활하지 않은 상태이고, 데이터를 오랫동안 보관하기 어렵기 때문에 되도록 개인용 컴퓨터에서 [Anaconda](https://www.anaconda.com/)나 [JupyterLab](https://jupyterlab.readthedocs.io/en/stable/) 등을 설치하고 사용하시는 것이 편하지만, 개인용 컴퓨터 사양이 부족한 경우에는 Google CoLab을 사용할 수도 있습니다. 개인용 컴퓨터를 쓸 때는 Windows에서는 [WSL2](https://docs.microsoft.com/en-us/windows/wsl/install-win10)를 쓰시면 리눅스 커맨드라인 환경을 쓸 수 있습니다. Google Colab은 창을 닫은 후 90분 후, 또는 창을 처음 열고 12시간 후에 환경을 닫아버리기 때문에 매번 실습할 때마다 새로 셋업이 필요합니다. `Runtime->Run All`을 실행해서 전체를 한 번 실행하시면 준비됩니다. 모든 것이 잘 안 되고 뭔가 꼬인 느낌이 강하게 들 때는 `Runtime->Factory reset runtime`을 누르고 새로 시작하시면 될 수도 있습니다.\n"
   ]
  },
  {
   "cell_type": "markdown",
   "metadata": {
    "id": "zGYjheLcRJS0"
   },
   "source": [
    "## Google Drive 마운트\n",
    "\n",
    "데이터 파일들을 불러오고 저장하기 위해서 Google Drive를 연결합니다. **이번엔 스크립트 파일을 편집해야 하기 때문에 Google Drive 마운트를 하지 않으면 vim등 콘솔에서 쓸 수 있는 에디터를 쓰셔야 합니다.** 화면에 나오는 주소를 눌러서 인증하고 인증 코드를 그 아래에 입력하세요. 그러면 `/contents/drive/MyDrive`에서 자신의 Drive 최상단 폴더가 보입니다. Google CoLab에서 접속하지 않고, 본인 컴퓨터 또는 연구실 워크스테이션 등 다른 컴퓨터를 쓰시는 경우에는 저장공간이 충분하므로 이 부분은 생략하고 지나갑니다."
   ]
  },
  {
   "cell_type": "code",
   "execution_count": null,
   "metadata": {
    "id": "0HgOxANiRHgl"
   },
   "outputs": [],
   "source": [
    "from google.colab import drive\n",
    "drive.mount('/content/drive')"
   ]
  },
  {
   "cell_type": "markdown",
   "metadata": {
    "id": "ra3RB22DWEER"
   },
   "source": [
    "## 실습용 Bioconda 환경 설치하기\n",
    "Google CoLab에서 접속하지 않고, 본인 컴퓨터 또는 연구실 워크스테이션 등 다른 컴퓨터를 쓰시는 경우에는 따로 실습용 [Bioconda](https://bioconda.github.io/) 환경을 구축해서 이 노트북을 그 환경 안에서 띄우시면 됩니다.\n",
    "\n",
    "CoLab을 쓰시는 분들은 다음에 따라서 실습용 프로그램들을 쉽게 설치할 수 있도록 [Bioconda](https://bioconda.github.io/) 환경을 만듭니다. 실행하고 진행상황을 관찰하다가 에러로 보이는 것이 있으면 잘 읽어보고 해결합니다.\n",
    "\n",
    "파이썬 모듈들은 Colab쪽의 파이썬 인터프리터를 바꿀 수 없기 때문에 Conda에 설치하더라도 사용하기 어렵습니다. 파이썬 모듈은 `pip` 명령어로 설치하시면 Colab에서 불러와서 사용할 수 있습니다.\n",
    "\n",
    "환경 초기화에 관련된 스크립트는 [GitHub 프로젝트](https://github.com/hyeshik/colab-biolab)에 있습니다."
   ]
  },
  {
   "cell_type": "code",
   "execution_count": 1,
   "metadata": {
    "id": "TTXmNi4hcap3"
   },
   "outputs": [
    {
     "name": "stdout",
     "output_type": "stream",
     "text": [
      "'colab-biolab'에 복제합니다...\n",
      "remote: Enumerating objects: 76, done.\u001b[K\n",
      "remote: Counting objects: 100% (76/76), done.\u001b[K\n",
      "remote: Compressing objects: 100% (47/47), done.\u001b[K\n",
      "remote: Total 76 (delta 26), reused 59 (delta 15), pack-reused 0\u001b[K\n",
      "오브젝트를 받는 중: 100% (76/76), 318.16 KiB | 3.74 MiB/s, 완료.\n",
      "델타를 알아내는 중: 100% (26/26), 완료.\n",
      "x ./: Can't restore time\n",
      "x ./root/: Can't create 'root'\n",
      "x ./root/.condarc: Failed to create dir 'root'\n",
      "x ./root/.tmux.conf: Failed to create dir 'root'\n",
      "x ./root/.bin.priority/: Failed to create dir 'root'\n",
      "x ./root/.bashrc.biolab: Failed to create dir 'root'\n",
      "x ./root/.vimrc: Failed to create dir 'root'\n",
      "x ./root/.profile: Failed to create dir 'root'\n",
      "x ./root/.bin.priority/pip2: Failed to create dir 'root'\n",
      "x ./root/.bin.priority/pip3: Failed to create dir 'root'\n",
      "x ./root/.bin.priority/pip: Failed to create dir 'root'\n",
      "tar: Error exit delayed from previous errors.\n",
      "dyld[5863]: Library not loaded: /opt/homebrew/opt/libunistring/lib/libunistring.2.dylib\n",
      "  Referenced from: <A2808CD2-467C-32EF-B7CF-9441D98ABF5E> /opt/homebrew/Cellar/wget/1.21.3/bin/wget\n",
      "  Reason: tried: '/opt/homebrew/opt/libunistring/lib/libunistring.2.dylib' (no such file), '/System/Volumes/Preboot/Cryptexes/OS/opt/homebrew/opt/libunistring/lib/libunistring.2.dylib' (no such file), '/opt/homebrew/opt/libunistring/lib/libunistring.2.dylib' (no such file), '/usr/local/lib/libunistring.2.dylib' (no such file), '/usr/lib/libunistring.2.dylib' (no such file, not in dyld cache), '/opt/homebrew/Cellar/libunistring/1.1/lib/libunistring.2.dylib' (no such file), '/System/Volumes/Preboot/Cryptexes/OS/opt/homebrew/Cellar/libunistring/1.1/lib/libunistring.2.dylib' (no such file), '/opt/homebrew/Cellar/libunistring/1.1/lib/libunistring.2.dylib' (no such file), '/usr/local/lib/libunistring.2.dylib' (no such file), '/usr/lib/libunistring.2.dylib' (no such file, not in dyld cache)\n",
      "tools/setup.sh: line 13:  5863 Abort trap: 6           wget -O $CONDAINSTALLER https://repo.anaconda.com/miniconda/Miniconda3-latest-Linux-x86_64.sh\n",
      "bash: miniconda3.sh: No such file or directory\n",
      "cat: /Users/hcgill/.bashrc.biolab: No such file or directory\n"
     ]
    },
    {
     "name": "stderr",
     "output_type": "stream",
     "text": [
      "/bin/bash: line 1: /root/conda/bin/conda: No such file or directory\n",
      "\n",
      "CommandNotFoundError: Your shell has not been properly configured to use 'conda activate'.\n",
      "To initialize your shell, run\n",
      "\n",
      "    $ conda init <SHELL_NAME>\n",
      "\n",
      "Currently supported shells are:\n",
      "  - bash\n",
      "  - fish\n",
      "  - tcsh\n",
      "  - xonsh\n",
      "  - zsh\n",
      "  - powershell\n",
      "\n",
      "See 'conda init --help' for more information and options.\n",
      "\n",
      "IMPORTANT: You may need to close and restart your shell after running 'conda init'.\n",
      "\n",
      "\n"
     ]
    },
    {
     "ename": "ValueError",
     "evalue": "not enough values to unpack (expected 2, got 1)",
     "output_type": "error",
     "traceback": [
      "\u001b[0;31m---------------------------------------------------------------------------\u001b[0m",
      "\u001b[0;31mValueError\u001b[0m                                Traceback (most recent call last)",
      "Cell \u001b[0;32mIn [1], line 3\u001b[0m\n\u001b[1;32m      1\u001b[0m get_ipython()\u001b[38;5;241m.\u001b[39msystem(\u001b[38;5;124m'\u001b[39m\u001b[38;5;124mgit clone https://github.com/hyeshik/colab-biolab.git\u001b[39m\u001b[38;5;124m'\u001b[39m)\n\u001b[1;32m      2\u001b[0m get_ipython()\u001b[38;5;241m.\u001b[39msystem(\u001b[38;5;124m'\u001b[39m\u001b[38;5;124mcd colab-biolab && bash tools/setup.sh\u001b[39m\u001b[38;5;124m'\u001b[39m)\n\u001b[0;32m----> 3\u001b[0m \u001b[43mexec\u001b[49m\u001b[43m(\u001b[49m\u001b[38;5;28;43mopen\u001b[39;49m\u001b[43m(\u001b[49m\u001b[38;5;124;43m'\u001b[39;49m\u001b[38;5;124;43mcolab-biolab/tools/activate_conda.py\u001b[39;49m\u001b[38;5;124;43m'\u001b[39;49m\u001b[43m)\u001b[49m\u001b[38;5;241;43m.\u001b[39;49m\u001b[43mread\u001b[49m\u001b[43m(\u001b[49m\u001b[43m)\u001b[49m\u001b[43m)\u001b[49m\n",
      "File \u001b[0;32m<string>:16\u001b[0m\n",
      "\u001b[0;31mValueError\u001b[0m: not enough values to unpack (expected 2, got 1)"
     ]
    }
   ],
   "source": [
    "!git clone https://github.com/hyeshik/colab-biolab.git\n",
    "!cd colab-biolab && bash tools/setup.sh\n",
    "exec(open('colab-biolab/tools/activate_conda.py').read())"
   ]
  },
  {
   "cell_type": "markdown",
   "metadata": {
    "id": "eDfJ0fCzsTTb"
   },
   "source": [
    "요즘은 Google CoLab을 쓰시는 경우에는 무료로 Terminal을 쓸 수 있는 경로가 거의 모두 막혔습니다. 명령 앞에 !을 붙이면 실행할 수 있으니, 노트북 내에서 실행하는 방법을 활용합시다."
   ]
  },
  {
   "cell_type": "markdown",
   "metadata": {
    "id": "J2LqGiP_N26s"
   },
   "source": [
    "## 시퀀싱 데이터 다운로드\n",
    "이제 실습 수업에서 필요한 시퀀싱 데이터를 다운로드 받아서 설치합시다. 드라이브 공간만 충분하면 데이터는 계속 저장돼 있기 때문에 학기 전체를 통해서 딱 한 번만 하시면 됩니다. Colab에서는 작업용 데이터를 Google Drive 폴더 아래의 `binfo-datapack1`에 저장합니다. 실습용 데이터는 `/content/drive/MyDrive/binfo1-datapack1`에 풀리게 됩니다.\n",
    "\n",
    "### (Option 1) Google CoLab에서 접속한 경우\n",
    "1. [Google Drive 공유폴더](https://drive.google.com/drive/folders/1QBJednh-C7A17PFOlpZHBKyDmBvd6klh?usp=sharing)에 접속합니다.\n",
    "1. 중간 제목줄의 \"binfo1-datapack1 ▾\"에서 ▾을 누릅니다.\n",
    "1. Add shortcut to Drive를 누릅니다.\n",
    "1. My Drive를 선택해서 ADD SHORTCUT 버튼을 누릅니다.\n",
    "1. 다음 cell을 실행해서 링크가 제대로 들어왔는지 확인합니다. (바로 확인되지 않으면 3–5분 정도 기다렸다가 하면 됩니다.)\n",
    "1. 제대로 확인되면 다음으로 넘어갑니다.\n"
   ]
  },
  {
   "cell_type": "code",
   "execution_count": null,
   "metadata": {
    "id": "D24wKYriG8tI"
   },
   "outputs": [],
   "source": [
    "!ls -al /content/drive/MyDrive/binfo1-datapack1/"
   ]
  },
  {
   "cell_type": "markdown",
   "metadata": {
    "id": "OZ0KkKrmG-M4"
   },
   "source": [
    "### (Option 2) CoLab외의 다른 환경에서 접속한 경우\n",
    "본인 컴퓨터나 연구실 워크스테이션 등에서 작업하는 경우에는 다음 명령어로 다운로드 받으시면 됩니다. 첫 번째에는 wget이 접속오류를 내는 경우가 많으니, 접속에러가 발생하면 다시 한 번 실행해 보세요. `/content/drive/Mydrive` 부분은 원하는 저장 경로로 바꿔서 지정하시면 됩니다."
   ]
  },
  {
   "cell_type": "code",
   "execution_count": 4,
   "metadata": {
    "id": "kIN484e7NSxR"
   },
   "outputs": [
    {
     "name": "stdout",
     "output_type": "stream",
     "text": [
      "--2023-04-28 10:56:03--  https://hyeshik.qbio.io/binfo/binfo1-datapack1.tar\n",
      "hyeshik.qbio.io (hyeshik.qbio.io) 해석 중... 147.47.203.129\n",
      "다음으로 연결 중: hyeshik.qbio.io (hyeshik.qbio.io)|147.47.203.129|:443... 연결했습니다.\n",
      "경고: `CN=R3,O=Let\\'s Encrypt,C=US'에서 발급한 hyeshik.qbio.io 인증서를 검증할 수 없습니다:\n",
      "  발급자의 신뢰도를 로컬에서 검증할 수 없습니다.\n",
      "HTTP 요청을 보냈습니다. 응답 기다리는 중... 200 OK\n",
      "길이: 6424668160 (6.0G) [application/octet-stream]\n",
      "저장 위치: `STDOUT'\n",
      "\n",
      "-                    16%[==>                 ]   1.01G  8.79MB/s    /  95s     \n",
      "\n",
      "2023-04-28 10:57:38 (10.8 MB/s) - 1082031829 바이트에 연결 끊음. 다시 시도 중.\n",
      "\n",
      "--2023-04-28 10:57:39--  (시도횟수: 2)  https://hyeshik.qbio.io/binfo/binfo1-datapack1.tar\n",
      "다음으로 연결 중: hyeshik.qbio.io (hyeshik.qbio.io)|147.47.203.129|:443... 연결했습니다.\n",
      "경고: `CN=R3,O=Let\\'s Encrypt,C=US'에서 발급한 hyeshik.qbio.io 인증서를 검증할 수 없습니다:\n",
      "  발급자의 신뢰도를 로컬에서 검증할 수 없습니다.\n",
      "HTTP 요청을 보냈습니다. 응답 기다리는 중... 206 Partial Content\n",
      "길이: 6424668160 (6.0G), 5342636331 (5.0G) 남음 [application/octet-stream]\n",
      "저장 위치: `STDOUT'\n",
      "\n",
      "-                    33%[+++==>              ]   2.01G  6.60MB/s    /  1m 57s  \n",
      "\n",
      "2023-04-28 10:59:36 (8.82 MB/s) - 2163473788 바이트에 연결 끊음. 다시 시도 중.\n",
      "\n",
      "--2023-04-28 10:59:38--  (시도횟수: 3)  https://hyeshik.qbio.io/binfo/binfo1-datapack1.tar\n",
      "다음으로 연결 중: hyeshik.qbio.io (hyeshik.qbio.io)|147.47.203.129|:443... 연결했습니다.\n",
      "경고: `CN=R3,O=Let\\'s Encrypt,C=US'에서 발급한 hyeshik.qbio.io 인증서를 검증할 수 없습니다:\n",
      "  발급자의 신뢰도를 로컬에서 검증할 수 없습니다.\n",
      "HTTP 요청을 보냈습니다. 응답 기다리는 중... 206 Partial Content\n",
      "길이: 6424668160 (6.0G), 4261194372 (4.0G) 남음 [application/octet-stream]\n",
      "저장 위치: `STDOUT'\n",
      "\n",
      "-                    50%[++++++===>          ]   3.02G  10.8MB/s    /  3m 3s   \n",
      "\n",
      "2023-04-28 11:02:42 (5.63 MB/s) - 3244751907 바이트에 연결 끊음. 다시 시도 중.\n",
      "\n",
      "--2023-04-28 11:02:45--  (시도횟수: 4)  https://hyeshik.qbio.io/binfo/binfo1-datapack1.tar\n",
      "다음으로 연결 중: hyeshik.qbio.io (hyeshik.qbio.io)|147.47.203.129|:443... 연결했습니다.\n",
      "경고: `CN=R3,O=Let\\'s Encrypt,C=US'에서 발급한 hyeshik.qbio.io 인증서를 검증할 수 없습니다:\n",
      "  발급자의 신뢰도를 로컬에서 검증할 수 없습니다.\n",
      "HTTP 요청을 보냈습니다. 응답 기다리는 중... 206 Partial Content\n",
      "길이: 6424668160 (6.0G), 3179916253 (3.0G) 남음 [application/octet-stream]\n",
      "저장 위치: `STDOUT'\n",
      "\n",
      "-                    67%[++++++++++==>       ]   4.03G  12.8MB/s    /  1m 40s  \n",
      "\n",
      "2023-04-28 11:04:25 (10.3 MB/s) - 4326292170 바이트에 연결 끊음. 다시 시도 중.\n",
      "\n",
      "--2023-04-28 11:04:29--  (시도횟수: 5)  https://hyeshik.qbio.io/binfo/binfo1-datapack1.tar\n",
      "다음으로 연결 중: hyeshik.qbio.io (hyeshik.qbio.io)|147.47.203.129|:443... 연결했습니다.\n",
      "경고: `CN=R3,O=Let\\'s Encrypt,C=US'에서 발급한 hyeshik.qbio.io 인증서를 검증할 수 없습니다:\n",
      "  발급자의 신뢰도를 로컬에서 검증할 수 없습니다.\n",
      "HTTP 요청을 보냈습니다. 응답 기다리는 중... 206 Partial Content\n",
      "길이: 6424668160 (6.0G), 2098375990 (2.0G) 남음 [application/octet-stream]\n",
      "저장 위치: `STDOUT'\n",
      "\n",
      "-                    84%[+++++++++++++==>    ]   5.04G  13.4MB/s    /  94s     \n",
      "\n",
      "2023-04-28 11:06:03 (11.0 MB/s) - 5407750513 바이트에 연결 끊음. 다시 시도 중.\n",
      "\n",
      "--2023-04-28 11:06:08--  (시도횟수: 6)  https://hyeshik.qbio.io/binfo/binfo1-datapack1.tar\n",
      "다음으로 연결 중: hyeshik.qbio.io (hyeshik.qbio.io)|147.47.203.129|:443... 연결했습니다.\n",
      "경고: `CN=R3,O=Let\\'s Encrypt,C=US'에서 발급한 hyeshik.qbio.io 인증서를 검증할 수 없습니다:\n",
      "  발급자의 신뢰도를 로컬에서 검증할 수 없습니다.\n",
      "HTTP 요청을 보냈습니다. 응답 기다리는 중... 206 Partial Content\n",
      "길이: 6424668160 (6.0G), 1016917647 (970M) 남음 [application/octet-stream]\n",
      "저장 위치: `STDOUT'\n",
      "\n",
      "-                   100%[++++++++++++++++===>]   5.98G  12.4MB/s    /  76s     \n",
      "\n",
      "2023-04-28 11:07:24 (12.8 MB/s) - 표준 출력에 기록: [6424668160/6424668160]\n",
      "\n"
     ]
    }
   ],
   "source": [
    "!wget -O - --no-check-certificate https://hyeshik.qbio.io/binfo/binfo1-datapack1.tar | tar -C /Users/hcgill/projects/Bioinformatics -xf -"
   ]
  },
  {
   "cell_type": "markdown",
   "metadata": {
    "id": "kiQ5y4dTD27M"
   },
   "source": [
    "그리고, GENCODE Annotation 데이터도 미리 받아서 저장해 둡니다. 에러가 나면 다시 한 번 실행해 봅니다."
   ]
  },
  {
   "cell_type": "code",
   "execution_count": 5,
   "metadata": {
    "id": "Efdd3x8hDMh4"
   },
   "outputs": [
    {
     "name": "stdout",
     "output_type": "stream",
     "text": [
      "--2023-04-28 11:07:32--  http://ftp.ebi.ac.uk/pub/databases/gencode/Gencode_mouse/release_M27/gencode.vM27.annotation.gtf.gz\n",
      "ftp.ebi.ac.uk (ftp.ebi.ac.uk) 해석 중... 193.62.193.138\n",
      "다음으로 연결 중: ftp.ebi.ac.uk (ftp.ebi.ac.uk)|193.62.193.138|:80... 연결했습니다.\n",
      "HTTP 요청을 보냈습니다. 응답 기다리는 중... 200 OK\n",
      "길이: 28359457 (27M) [application/x-gzip]\n",
      "저장 위치: `/Users/hcgill/projects/Bioinformatics/gencode.gtf.gz'\n",
      "\n",
      "/Users/hcgill/proje 100%[===================>]  27.04M   142KB/s    /  2m 54s  \n",
      "\n",
      "2023-04-28 11:10:28 (159 KB/s) - `/Users/hcgill/projects/Bioinformatics/gencode.gtf.gz' 저장함 [28359457/28359457]\n",
      "\n"
     ]
    }
   ],
   "source": [
    "!wget --no-check-certificate -O /Users/hcgill/projects/Bioinformatics/binfo1-datapack1/gencode.gtf.gz http://ftp.ebi.ac.uk/pub/databases/gencode/Gencode_mouse/release_M27/gencode.vM27.annotation.gtf.gz"
   ]
  },
  {
   "cell_type": "markdown",
   "metadata": {
    "id": "O3rM9ds6EMhB"
   },
   "source": [
    "다루기 쉽도록 Annotation 압축을 풉니다."
   ]
  },
  {
   "cell_type": "code",
   "execution_count": 6,
   "metadata": {
    "id": "KNyuSM6PEQvX"
   },
   "outputs": [],
   "source": [
    "!gunzip /Users/hcgill/projects/Bioinformatics/binfo1-datapack1/gencode.gtf.gz"
   ]
  },
  {
   "cell_type": "markdown",
   "metadata": {
    "id": "lnlM-S70C-tY"
   },
   "source": [
    "### 파일 체크섬 확인\n",
    "\n",
    "받은 데이터의 MD5 체크섬을 확인합니다. 한참 걸립니다. 각 파일들의 원래 체크섬은 다음과 같습니다. 한 번 비교해 보세요.\n",
    "\n",
    "```\n",
    "140aaf30bcb9276cc716f8699f04ddd6  CLIP-35L33G.bam\n",
    "f1b3336ed7e2f97d562dcc71641251bd  CLIP-35L33G.bam.bai\n",
    "328883a73d507eafbf5b60bd6b906201  RNA-control.bam\n",
    "02073818e2f398a73c3b76e5169de1ca  RNA-control.bam.bai\n",
    "b09550d09d6c2a4ce27f0226f426fdb1  RNA-siLin28a.bam\n",
    "fef112c727244060ea62d3f2564a07f6  RNA-siLin28a.bam.bai\n",
    "28bbd0c47d725669340c784f1b772c01  RNA-siLuc.bam\n",
    "43590fdc4d81905c0432e0d1cb8cfd5b  RNA-siLuc.bam.bai\n",
    "5c08a9297307bc83259e658c4474f0cc  RPF-siLin28a.bam\n",
    "a1bb3e29be412dfd7fd8d16b1b1acc4c  RPF-siLin28a.bam.bai\n",
    "f2eebf50943024d0116c9cd3e744c707  RPF-siLuc.bam\n",
    "dc24f69e8f571fc8be30f28ce5b84fcd  RPF-siLuc.bam.bai\n",
    "```"
   ]
  },
  {
   "cell_type": "code",
   "execution_count": 8,
   "metadata": {
    "id": "g8lC_YJRBCPf"
   },
   "outputs": [
    {
     "name": "stdout",
     "output_type": "stream",
     "text": [
      "/Users/hcgill/projects/Bioinformatics/binfo1-datapack1\n",
      "CLIP-35L33G.bam: OK\n",
      "CLIP-35L33G.bam.bai: OK\n",
      "RNA-control.bam: OK\n",
      "RNA-control.bam.bai: OK\n",
      "RNA-siLin28a.bam: OK\n",
      "RNA-siLin28a.bam.bai: OK\n",
      "RNA-siLuc.bam: OK\n",
      "RNA-siLuc.bam.bai: OK\n",
      "RPF-siLin28a.bam: OK\n",
      "RPF-siLin28a.bam.bai: OK\n",
      "RPF-siLuc.bam: OK\n",
      "RPF-siLuc.bam.bai: OK\n"
     ]
    }
   ],
   "source": [
    "%cd /Users/hcgill/projects/Bioinformatics/binfo1-datapack1\n",
    "!md5sum -c /Users/hcgill/projects/Bioinformatics/binfo1-datapack1/md5sum.txt"
   ]
  },
  {
   "cell_type": "code",
   "execution_count": 9,
   "metadata": {
    "id": "PVXzIs5FE3Q4"
   },
   "outputs": [
    {
     "name": "stdout",
     "output_type": "stream",
     "text": [
      "total 14346648\r\n",
      "drwxr-xr-x  16 hcgill  staff         512  4 28 11:11 \u001b[1m\u001b[36m.\u001b[m\u001b[m\r\n",
      "drwxr-xr-x   6 hcgill  staff         192  4 28 11:12 \u001b[1m\u001b[36m..\u001b[m\u001b[m\r\n",
      "-rw-r--r--   1 hcgill  staff  1370036258  5  6  2021 CLIP-35L33G.bam\r\n",
      "-rw-r--r--   1 hcgill  staff     3118336  5  6  2021 CLIP-35L33G.bam.bai\r\n",
      "-rw-r--r--   1 hcgill  staff  1003658801  5  6  2021 RNA-control.bam\r\n",
      "-rw-r--r--   1 hcgill  staff     2276104  5  6  2021 RNA-control.bam.bai\r\n",
      "-rw-r--r--   1 hcgill  staff  1260991122  5  6  2021 RNA-siLin28a.bam\r\n",
      "-rw-r--r--   1 hcgill  staff     2710744  5  6  2021 RNA-siLin28a.bam.bai\r\n",
      "-rw-r--r--   1 hcgill  staff   981684502  5  6  2021 RNA-siLuc.bam\r\n",
      "-rw-r--r--   1 hcgill  staff     2606104  5  6  2021 RNA-siLuc.bam.bai\r\n",
      "-rw-r--r--   1 hcgill  staff   737352902  5  6  2021 RPF-siLin28a.bam\r\n",
      "-rw-r--r--   1 hcgill  staff     2482768  5  6  2021 RPF-siLin28a.bam.bai\r\n",
      "-rw-r--r--   1 hcgill  staff  1055123479  5  6  2021 RPF-siLuc.bam\r\n",
      "-rw-r--r--   1 hcgill  staff     2605912  5  6  2021 RPF-siLuc.bam.bai\r\n",
      "-rw-r--r--   1 hcgill  staff   883334756  3  9  2021 gencode.gtf\r\n",
      "-rw-r--r--   1 hcgill  staff         620  4 28 11:06 md5sum.txt\r\n"
     ]
    }
   ],
   "source": [
    "!ls -al /Users/hcgill/projects/Bioinformatics/binfo*"
   ]
  },
  {
   "cell_type": "markdown",
   "metadata": {
    "id": "ecEA1PPQUlIK"
   },
   "source": [
    "실습에 필요한 프로그램들 몇 가지를 추가로 설치합니다."
   ]
  },
  {
   "cell_type": "code",
   "execution_count": 10,
   "metadata": {
    "id": "neteyWsWEKBy"
   },
   "outputs": [
    {
     "name": "stdout",
     "output_type": "stream",
     "text": [
      "Collecting package metadata (current_repodata.json): done\n",
      "Solving environment: failed with initial frozen solve. Retrying with flexible solve.\n",
      "Collecting package metadata (repodata.json): done\n",
      "Solving environment: failed with initial frozen solve. Retrying with flexible solve.\n",
      "\n",
      "PackagesNotFoundError: The following packages are not available from current channels:\n",
      "\n",
      "  - subread\n",
      "\n",
      "Current channels:\n",
      "\n",
      "  - https://conda.anaconda.org/conda-forge/osx-arm64\n",
      "  - https://conda.anaconda.org/conda-forge/noarch\n",
      "  - https://conda.anaconda.org/bioconda/osx-arm64\n",
      "  - https://conda.anaconda.org/bioconda/noarch\n",
      "  - https://repo.anaconda.com/pkgs/main/osx-arm64\n",
      "  - https://repo.anaconda.com/pkgs/main/noarch\n",
      "  - https://repo.anaconda.com/pkgs/r/osx-arm64\n",
      "  - https://repo.anaconda.com/pkgs/r/noarch\n",
      "\n",
      "To search for alternate channels that may provide the conda package you're\n",
      "looking for, navigate to\n",
      "\n",
      "    https://anaconda.org\n",
      "\n",
      "and use the search bar at the top of the page.\n",
      "\n",
      "\n"
     ]
    }
   ],
   "source": [
    "!conda install -y subread"
   ]
  },
  {
   "cell_type": "markdown",
   "metadata": {
    "id": "Oe_54MZrEi4y"
   },
   "source": [
    "## Transcript count table 마련하기\n",
    "\n",
    "제공된 alignment와 annotation 파일들을 이용해서 transcript별 read count를 구해봅니다. 실제 연구에서는 multi-mapping 등을 고려해야 하지만, 여기서는 단순화해서 모두 무시합니다. 데이터가 있는 곳으로 이동해서 작업합시다."
   ]
  },
  {
   "cell_type": "code",
   "execution_count": 2,
   "metadata": {
    "id": "IANz6DmLUkA6"
   },
   "outputs": [
    {
     "name": "stdout",
     "output_type": "stream",
     "text": [
      "/Users/hcgill/projects/Bioinformatics/binfo1-datapack1\n"
     ]
    }
   ],
   "source": [
    "%cd /Users/hcgill/projects/Bioinformatics/binfo1-datapack1"
   ]
  },
  {
   "cell_type": "code",
   "execution_count": 13,
   "metadata": {
    "id": "5OrnDxegFAip"
   },
   "outputs": [
    {
     "name": "stdout",
     "output_type": "stream",
     "text": [
      "\n",
      "       \u001b[44;37m ========== \u001b[0m\u001b[36m    _____ _    _ ____  _____  ______          _____  \n",
      "       \u001b[44;37m =====      \u001b[0m\u001b[36m   / ____| |  | |  _ \\|  __ \\|  ____|   /\\   |  __ \\ \n",
      "       \u001b[44;37m   =====    \u001b[0m\u001b[36m  | (___ | |  | | |_) | |__) | |__     /  \\  | |  | |\n",
      "       \u001b[44;37m     ====   \u001b[0m\u001b[36m   \\___ \\| |  | |  _ <|  _  /|  __|   / /\\ \\ | |  | |\n",
      "       \u001b[44;37m       ==== \u001b[0m\u001b[36m   ____) | |__| | |_) | | \\ \\| |____ / ____ \\| |__| |\n",
      "       \u001b[44;37m ========== \u001b[0m\u001b[36m  |_____/ \\____/|____/|_|  \\_\\______/_/    \\_\\_____/\u001b[0m\n",
      "\t  v2.0.5\n",
      "\n",
      "//==========================\u001b[36m featureCounts setting \u001b[0m===========================\\\\\n",
      "||  \u001b[0m                                                                          ||\n",
      "||             Input files : \u001b[36m6 BAM files  \u001b[0m \u001b[0m                                   ||\n",
      "||  \u001b[0m                                                                          ||\n",
      "||                           \u001b[36mCLIP-35L33G.bam\u001b[0m \u001b[0m                                 ||\n",
      "||                           \u001b[36mRNA-control.bam\u001b[0m \u001b[0m                                 ||\n",
      "||                           \u001b[36mRNA-siLin28a.bam\u001b[0m \u001b[0m                                ||\n",
      "||                           \u001b[36mRNA-siLuc.bam\u001b[0m \u001b[0m                                   ||\n",
      "||                           \u001b[36mRPF-siLin28a.bam\u001b[0m \u001b[0m                                ||\n",
      "||                           \u001b[36mRPF-siLuc.bam\u001b[0m \u001b[0m                                   ||\n",
      "||  \u001b[0m                                                                          ||\n",
      "||             Output file : \u001b[36mread-counts.txt\u001b[0m \u001b[0m                                 ||\n",
      "||                 Summary : \u001b[36mread-counts.txt.summary\u001b[0m \u001b[0m                         ||\n",
      "||              Paired-end : \u001b[36mno\u001b[0m \u001b[0m                                              ||\n",
      "||        Count read pairs : \u001b[36mno\u001b[0m \u001b[0m                                              ||\n",
      "||              Annotation : \u001b[36mgencode.gtf (GTF)\u001b[0m \u001b[0m                               ||\n",
      "||      Dir for temp files : \u001b[36m./\u001b[0m \u001b[0m                                              ||\n",
      "||  \u001b[0m                                                                          ||\n",
      "||                 Threads : \u001b[36m1\u001b[0m \u001b[0m                                               ||\n",
      "||                   Level : \u001b[36mmeta-feature level\u001b[0m \u001b[0m                              ||\n",
      "||      Multimapping reads : \u001b[36mnot counted\u001b[0m \u001b[0m                                     ||\n",
      "|| Multi-overlapping reads : \u001b[36mnot counted\u001b[0m \u001b[0m                                     ||\n",
      "||   Min overlapping bases : \u001b[36m1\u001b[0m \u001b[0m                                               ||\n",
      "||  \u001b[0m                                                                          ||\n",
      "\\\\============================================================================//\n",
      "\n",
      "//=================================\u001b[36m Running \u001b[0m==================================\\\\\n",
      "||  \u001b[0m                                                                          ||\n",
      "|| Load annotation file gencode.gtf \u001b[0m... \u001b[0m                                      ||\n",
      "||    Features : \u001b[36m841952\u001b[0m \u001b[0m                                                      ||\n",
      "||    Meta-features : \u001b[36m55359\u001b[0m \u001b[0m                                                  ||\n",
      "||    Chromosomes/contigs : \u001b[36m22\u001b[0m \u001b[0m                                               ||\n",
      "||  \u001b[0m                                                                          ||\n",
      "|| Process BAM file CLIP-35L33G.bam... \u001b[0m                                       ||\n",
      "||    Single-end reads are included. \u001b[0m                                         ||\n",
      "||    Total alignments : \u001b[36m38880853\u001b[0m \u001b[0m                                            ||\n",
      "||    Successfully assigned alignments : \u001b[36m13630945 (35.1%)\u001b[0m \u001b[0m                    ||\n",
      "||    Running time : \u001b[36m0.42 minutes\u001b[0m \u001b[0m                                            ||\n",
      "||  \u001b[0m                                                                          ||\n",
      "|| Process BAM file RNA-control.bam... \u001b[0m                                       ||\n",
      "||    Single-end reads are included. \u001b[0m                                         ||\n",
      "||    Total alignments : \u001b[36m24971058\u001b[0m \u001b[0m                                            ||\n",
      "||    Successfully assigned alignments : \u001b[36m5200836 (20.8%)\u001b[0m \u001b[0m                     ||\n",
      "||    Running time : \u001b[36m0.27 minutes\u001b[0m \u001b[0m                                            ||\n",
      "||  \u001b[0m                                                                          ||\n",
      "|| Process BAM file RNA-siLin28a.bam... \u001b[0m                                      ||\n",
      "||    Single-end reads are included. \u001b[0m                                         ||\n",
      "||    Total alignments : \u001b[36m35108178\u001b[0m \u001b[0m                                            ||\n",
      "||    Successfully assigned alignments : \u001b[36m12338280 (35.1%)\u001b[0m \u001b[0m                    ||\n",
      "||    Running time : \u001b[36m0.38 minutes\u001b[0m \u001b[0m                                            ||\n",
      "||  \u001b[0m                                                                          ||\n",
      "|| Process BAM file RNA-siLuc.bam... \u001b[0m                                         ||\n",
      "||    Single-end reads are included. \u001b[0m                                         ||\n",
      "||    Total alignments : \u001b[36m28117241\u001b[0m \u001b[0m                                            ||\n",
      "||    Successfully assigned alignments : \u001b[36m9748787 (34.7%)\u001b[0m \u001b[0m                     ||\n",
      "||    Running time : \u001b[36m0.30 minutes\u001b[0m \u001b[0m                                            ||\n",
      "||  \u001b[0m                                                                          ||\n",
      "|| Process BAM file RPF-siLin28a.bam... \u001b[0m                                      ||\n",
      "||    Single-end reads are included. \u001b[0m                                         ||\n",
      "||    Total alignments : \u001b[36m30095551\u001b[0m \u001b[0m                                            ||\n",
      "||    Successfully assigned alignments : \u001b[36m10694162 (35.5%)\u001b[0m \u001b[0m                    ||\n",
      "||    Running time : \u001b[36m0.28 minutes\u001b[0m \u001b[0m                                            ||\n",
      "||  \u001b[0m                                                                          ||\n",
      "|| Process BAM file RPF-siLuc.bam... \u001b[0m                                         ||\n",
      "||    Single-end reads are included. \u001b[0m                                         ||\n",
      "||    Total alignments : \u001b[36m42002435\u001b[0m \u001b[0m                                            ||\n",
      "||    Successfully assigned alignments : \u001b[36m12932285 (30.8%)\u001b[0m \u001b[0m                    ||\n",
      "||    Running time : \u001b[36m0.39 minutes\u001b[0m \u001b[0m                                            ||\n",
      "||  \u001b[0m                                                                          ||\n",
      "|| Write the final count table. \u001b[0m                                              ||\n",
      "|| Write the read assignment summary. \u001b[0m                                        ||\n",
      "||  \u001b[0m                                                                          ||\n",
      "|| Summary of counting results can be found in file \"read-counts.txt.summary \u001b[0m ||\n",
      "|| \" \u001b[0m                                                                         ||\n",
      "||  \u001b[0m                                                                          ||\n",
      "\\\\============================================================================//\n",
      "\n"
     ]
    }
   ],
   "source": [
    "!/Users/hcgill/Applications/subread-2.0.5-macOS-x86_64/bin/featureCounts -a gencode.gtf -o read-counts.txt *.bam "
   ]
  },
  {
   "cell_type": "markdown",
   "metadata": {
    "id": "b2yJztZvGl9Q"
   },
   "source": [
    "결과를 pandas로 읽어와 봅니다."
   ]
  },
  {
   "cell_type": "code",
   "execution_count": 12,
   "metadata": {
    "id": "BMyNT3ARFAWi"
   },
   "outputs": [
    {
     "data": {
      "text/html": [
       "<div>\n",
       "<style scoped>\n",
       "    .dataframe tbody tr th:only-of-type {\n",
       "        vertical-align: middle;\n",
       "    }\n",
       "\n",
       "    .dataframe tbody tr th {\n",
       "        vertical-align: top;\n",
       "    }\n",
       "\n",
       "    .dataframe thead th {\n",
       "        text-align: right;\n",
       "    }\n",
       "</style>\n",
       "<table border=\"1\" class=\"dataframe\">\n",
       "  <thead>\n",
       "    <tr style=\"text-align: right;\">\n",
       "      <th></th>\n",
       "      <th>Length</th>\n",
       "      <th>CLIP-35L33G.bam</th>\n",
       "      <th>RNA-control.bam</th>\n",
       "      <th>RNA-siLin28a.bam</th>\n",
       "      <th>RNA-siLuc.bam</th>\n",
       "      <th>RPF-siLin28a.bam</th>\n",
       "      <th>RPF-siLuc.bam</th>\n",
       "    </tr>\n",
       "  </thead>\n",
       "  <tbody>\n",
       "    <tr>\n",
       "      <th>count</th>\n",
       "      <td>55359.000000</td>\n",
       "      <td>5.535900e+04</td>\n",
       "      <td>55359.000000</td>\n",
       "      <td>55359.000000</td>\n",
       "      <td>55359.000000</td>\n",
       "      <td>5.535900e+04</td>\n",
       "      <td>5.535900e+04</td>\n",
       "    </tr>\n",
       "    <tr>\n",
       "      <th>mean</th>\n",
       "      <td>2369.682545</td>\n",
       "      <td>2.462282e+02</td>\n",
       "      <td>93.947434</td>\n",
       "      <td>222.877581</td>\n",
       "      <td>176.101212</td>\n",
       "      <td>1.931784e+02</td>\n",
       "      <td>2.336076e+02</td>\n",
       "    </tr>\n",
       "    <tr>\n",
       "      <th>std</th>\n",
       "      <td>3127.375708</td>\n",
       "      <td>1.049052e+04</td>\n",
       "      <td>681.143964</td>\n",
       "      <td>1468.621537</td>\n",
       "      <td>1354.443243</td>\n",
       "      <td>1.998908e+04</td>\n",
       "      <td>2.352763e+04</td>\n",
       "    </tr>\n",
       "    <tr>\n",
       "      <th>min</th>\n",
       "      <td>10.000000</td>\n",
       "      <td>0.000000e+00</td>\n",
       "      <td>0.000000</td>\n",
       "      <td>0.000000</td>\n",
       "      <td>0.000000</td>\n",
       "      <td>0.000000e+00</td>\n",
       "      <td>0.000000e+00</td>\n",
       "    </tr>\n",
       "    <tr>\n",
       "      <th>25%</th>\n",
       "      <td>460.000000</td>\n",
       "      <td>0.000000e+00</td>\n",
       "      <td>0.000000</td>\n",
       "      <td>0.000000</td>\n",
       "      <td>0.000000</td>\n",
       "      <td>0.000000e+00</td>\n",
       "      <td>0.000000e+00</td>\n",
       "    </tr>\n",
       "    <tr>\n",
       "      <th>50%</th>\n",
       "      <td>1229.000000</td>\n",
       "      <td>0.000000e+00</td>\n",
       "      <td>0.000000</td>\n",
       "      <td>0.000000</td>\n",
       "      <td>0.000000</td>\n",
       "      <td>0.000000e+00</td>\n",
       "      <td>0.000000e+00</td>\n",
       "    </tr>\n",
       "    <tr>\n",
       "      <th>75%</th>\n",
       "      <td>3174.000000</td>\n",
       "      <td>2.500000e+01</td>\n",
       "      <td>16.000000</td>\n",
       "      <td>19.000000</td>\n",
       "      <td>15.000000</td>\n",
       "      <td>5.000000e+00</td>\n",
       "      <td>7.000000e+00</td>\n",
       "    </tr>\n",
       "    <tr>\n",
       "      <th>max</th>\n",
       "      <td>123179.000000</td>\n",
       "      <td>2.451339e+06</td>\n",
       "      <td>119734.000000</td>\n",
       "      <td>214518.000000</td>\n",
       "      <td>237513.000000</td>\n",
       "      <td>4.698218e+06</td>\n",
       "      <td>5.531458e+06</td>\n",
       "    </tr>\n",
       "  </tbody>\n",
       "</table>\n",
       "</div>"
      ],
      "text/plain": [
       "              Length  CLIP-35L33G.bam  RNA-control.bam  RNA-siLin28a.bam  \\\n",
       "count   55359.000000     5.535900e+04     55359.000000      55359.000000   \n",
       "mean     2369.682545     2.462282e+02        93.947434        222.877581   \n",
       "std      3127.375708     1.049052e+04       681.143964       1468.621537   \n",
       "min        10.000000     0.000000e+00         0.000000          0.000000   \n",
       "25%       460.000000     0.000000e+00         0.000000          0.000000   \n",
       "50%      1229.000000     0.000000e+00         0.000000          0.000000   \n",
       "75%      3174.000000     2.500000e+01        16.000000         19.000000   \n",
       "max    123179.000000     2.451339e+06    119734.000000     214518.000000   \n",
       "\n",
       "       RNA-siLuc.bam  RPF-siLin28a.bam  RPF-siLuc.bam  \n",
       "count   55359.000000      5.535900e+04   5.535900e+04  \n",
       "mean      176.101212      1.931784e+02   2.336076e+02  \n",
       "std      1354.443243      1.998908e+04   2.352763e+04  \n",
       "min         0.000000      0.000000e+00   0.000000e+00  \n",
       "25%         0.000000      0.000000e+00   0.000000e+00  \n",
       "50%         0.000000      0.000000e+00   0.000000e+00  \n",
       "75%        15.000000      5.000000e+00   7.000000e+00  \n",
       "max    237513.000000      4.698218e+06   5.531458e+06  "
      ]
     },
     "execution_count": 12,
     "metadata": {},
     "output_type": "execute_result"
    }
   ],
   "source": [
    "import pandas as pd\n",
    "import matplotlib.pyplot as plt\n",
    "import numpy as np\n",
    "cnts = pd.read_csv('read-counts.txt', sep='\\t', comment='#', index_col=0)\n",
    "cnts.describe()"
   ]
  },
  {
   "cell_type": "code",
   "execution_count": 37,
   "metadata": {},
   "outputs": [],
   "source": [
    "cnts_nonzero = cnts.replace(0,np.nan)\n",
    "cnts_nonzero = cnts_nonzero.dropna()\n",
    "\n",
    "cnts_rmoutlier = cnts_nonzero[(cnts_nonzero['RNA-control.bam'] > cnts_nonzero['RNA-control.bam'].quantile(0.3)) &\n",
    "                             (cnts_nonzero['RNA-control.bam'] < cnts_nonzero['RNA-control.bam'].quantile(0.7)) &\n",
    "                             (cnts_nonzero['RNA-siLin28a.bam'] > cnts_nonzero['RNA-siLin28a.bam'].quantile(0.3)) &\n",
    "                             (cnts_nonzero['RNA-siLin28a.bam'] < cnts_nonzero['RNA-siLin28a.bam'].quantile(0.7)) &\n",
    "                             (cnts_nonzero['RNA-siLuc.bam'] > cnts_nonzero['RNA-siLuc.bam'].quantile(0.3)) &\n",
    "                             (cnts_nonzero['RNA-siLuc.bam'] < cnts_nonzero['RNA-siLuc.bam'].quantile(0.7))]\n"
   ]
  },
  {
   "cell_type": "code",
   "execution_count": 38,
   "metadata": {},
   "outputs": [
    {
     "data": {
      "text/html": [
       "<div>\n",
       "<style scoped>\n",
       "    .dataframe tbody tr th:only-of-type {\n",
       "        vertical-align: middle;\n",
       "    }\n",
       "\n",
       "    .dataframe tbody tr th {\n",
       "        vertical-align: top;\n",
       "    }\n",
       "\n",
       "    .dataframe thead th {\n",
       "        text-align: right;\n",
       "    }\n",
       "</style>\n",
       "<table border=\"1\" class=\"dataframe\">\n",
       "  <thead>\n",
       "    <tr style=\"text-align: right;\">\n",
       "      <th></th>\n",
       "      <th>Length</th>\n",
       "      <th>CLIP-35L33G.bam</th>\n",
       "      <th>RNA-control.bam</th>\n",
       "      <th>RNA-siLin28a.bam</th>\n",
       "      <th>RNA-siLuc.bam</th>\n",
       "      <th>RPF-siLin28a.bam</th>\n",
       "      <th>RPF-siLuc.bam</th>\n",
       "    </tr>\n",
       "  </thead>\n",
       "  <tbody>\n",
       "    <tr>\n",
       "      <th>count</th>\n",
       "      <td>4826.000000</td>\n",
       "      <td>4826.000000</td>\n",
       "      <td>4826.000000</td>\n",
       "      <td>4826.000000</td>\n",
       "      <td>4826.000000</td>\n",
       "      <td>4826.000000</td>\n",
       "      <td>4826.000000</td>\n",
       "    </tr>\n",
       "    <tr>\n",
       "      <th>mean</th>\n",
       "      <td>5022.930792</td>\n",
       "      <td>230.359511</td>\n",
       "      <td>102.025694</td>\n",
       "      <td>253.055325</td>\n",
       "      <td>193.489225</td>\n",
       "      <td>139.945918</td>\n",
       "      <td>167.087650</td>\n",
       "    </tr>\n",
       "    <tr>\n",
       "      <th>std</th>\n",
       "      <td>3886.122635</td>\n",
       "      <td>269.478617</td>\n",
       "      <td>53.071431</td>\n",
       "      <td>132.253373</td>\n",
       "      <td>102.658902</td>\n",
       "      <td>410.611180</td>\n",
       "      <td>1121.718757</td>\n",
       "    </tr>\n",
       "    <tr>\n",
       "      <th>min</th>\n",
       "      <td>69.000000</td>\n",
       "      <td>1.000000</td>\n",
       "      <td>30.000000</td>\n",
       "      <td>49.000000</td>\n",
       "      <td>36.000000</td>\n",
       "      <td>1.000000</td>\n",
       "      <td>1.000000</td>\n",
       "    </tr>\n",
       "    <tr>\n",
       "      <th>25%</th>\n",
       "      <td>2673.000000</td>\n",
       "      <td>76.000000</td>\n",
       "      <td>57.000000</td>\n",
       "      <td>141.000000</td>\n",
       "      <td>107.000000</td>\n",
       "      <td>35.000000</td>\n",
       "      <td>49.000000</td>\n",
       "    </tr>\n",
       "    <tr>\n",
       "      <th>50%</th>\n",
       "      <td>4196.500000</td>\n",
       "      <td>149.000000</td>\n",
       "      <td>91.000000</td>\n",
       "      <td>233.000000</td>\n",
       "      <td>175.000000</td>\n",
       "      <td>71.000000</td>\n",
       "      <td>96.000000</td>\n",
       "    </tr>\n",
       "    <tr>\n",
       "      <th>75%</th>\n",
       "      <td>6306.000000</td>\n",
       "      <td>289.000000</td>\n",
       "      <td>140.000000</td>\n",
       "      <td>352.000000</td>\n",
       "      <td>271.000000</td>\n",
       "      <td>150.000000</td>\n",
       "      <td>185.000000</td>\n",
       "    </tr>\n",
       "    <tr>\n",
       "      <th>max</th>\n",
       "      <td>117334.000000</td>\n",
       "      <td>6349.000000</td>\n",
       "      <td>237.000000</td>\n",
       "      <td>570.000000</td>\n",
       "      <td>438.000000</td>\n",
       "      <td>20187.000000</td>\n",
       "      <td>73959.000000</td>\n",
       "    </tr>\n",
       "  </tbody>\n",
       "</table>\n",
       "</div>"
      ],
      "text/plain": [
       "              Length  CLIP-35L33G.bam  RNA-control.bam  RNA-siLin28a.bam  \\\n",
       "count    4826.000000      4826.000000      4826.000000       4826.000000   \n",
       "mean     5022.930792       230.359511       102.025694        253.055325   \n",
       "std      3886.122635       269.478617        53.071431        132.253373   \n",
       "min        69.000000         1.000000        30.000000         49.000000   \n",
       "25%      2673.000000        76.000000        57.000000        141.000000   \n",
       "50%      4196.500000       149.000000        91.000000        233.000000   \n",
       "75%      6306.000000       289.000000       140.000000        352.000000   \n",
       "max    117334.000000      6349.000000       237.000000        570.000000   \n",
       "\n",
       "       RNA-siLuc.bam  RPF-siLin28a.bam  RPF-siLuc.bam  \n",
       "count    4826.000000       4826.000000    4826.000000  \n",
       "mean      193.489225        139.945918     167.087650  \n",
       "std       102.658902        410.611180    1121.718757  \n",
       "min        36.000000          1.000000       1.000000  \n",
       "25%       107.000000         35.000000      49.000000  \n",
       "50%       175.000000         71.000000      96.000000  \n",
       "75%       271.000000        150.000000     185.000000  \n",
       "max       438.000000      20187.000000   73959.000000  "
      ]
     },
     "execution_count": 38,
     "metadata": {},
     "output_type": "execute_result"
    }
   ],
   "source": [
    "cnts_rmoutlier.describe()"
   ]
  },
  {
   "cell_type": "markdown",
   "metadata": {
    "id": "NyrUZ7WBPAmv"
   },
   "source": [
    "이제 한 번 대충 그림을 그려 봅니다."
   ]
  },
  {
   "cell_type": "code",
   "execution_count": 39,
   "metadata": {
    "id": "YlSZiJgVPAZS"
   },
   "outputs": [
    {
     "name": "stderr",
     "output_type": "stream",
     "text": [
      "/var/folders/ky/d32dbr951fndzd3t5dvg7l880000gn/T/ipykernel_69476/3680772263.py:1: SettingWithCopyWarning: \n",
      "A value is trying to be set on a copy of a slice from a DataFrame.\n",
      "Try using .loc[row_indexer,col_indexer] = value instead\n",
      "\n",
      "See the caveats in the documentation: https://pandas.pydata.org/pandas-docs/stable/user_guide/indexing.html#returning-a-view-versus-a-copy\n",
      "  cnts_rmoutlier['clip_enrichment'] = cnts_rmoutlier['CLIP-35L33G.bam'] / cnts_rmoutlier['RNA-control.bam']\n",
      "/var/folders/ky/d32dbr951fndzd3t5dvg7l880000gn/T/ipykernel_69476/3680772263.py:2: SettingWithCopyWarning: \n",
      "A value is trying to be set on a copy of a slice from a DataFrame.\n",
      "Try using .loc[row_indexer,col_indexer] = value instead\n",
      "\n",
      "See the caveats in the documentation: https://pandas.pydata.org/pandas-docs/stable/user_guide/indexing.html#returning-a-view-versus-a-copy\n",
      "  cnts_rmoutlier['rden_change'] = (cnts_rmoutlier['RPF-siLin28a.bam'] / cnts_rmoutlier['RNA-siLin28a.bam']) / (cnts_rmoutlier['RPF-siLuc.bam'] / cnts_rmoutlier['RNA-siLuc.bam'])\n"
     ]
    },
    {
     "data": {
      "text/html": [
       "<div>\n",
       "<style scoped>\n",
       "    .dataframe tbody tr th:only-of-type {\n",
       "        vertical-align: middle;\n",
       "    }\n",
       "\n",
       "    .dataframe tbody tr th {\n",
       "        vertical-align: top;\n",
       "    }\n",
       "\n",
       "    .dataframe thead th {\n",
       "        text-align: right;\n",
       "    }\n",
       "</style>\n",
       "<table border=\"1\" class=\"dataframe\">\n",
       "  <thead>\n",
       "    <tr style=\"text-align: right;\">\n",
       "      <th></th>\n",
       "      <th>Chr</th>\n",
       "      <th>Start</th>\n",
       "      <th>End</th>\n",
       "      <th>Strand</th>\n",
       "      <th>Length</th>\n",
       "      <th>CLIP-35L33G.bam</th>\n",
       "      <th>RNA-control.bam</th>\n",
       "      <th>RNA-siLin28a.bam</th>\n",
       "      <th>RNA-siLuc.bam</th>\n",
       "      <th>RPF-siLin28a.bam</th>\n",
       "      <th>RPF-siLuc.bam</th>\n",
       "      <th>clip_enrichment</th>\n",
       "      <th>rden_change</th>\n",
       "    </tr>\n",
       "    <tr>\n",
       "      <th>Geneid</th>\n",
       "      <th></th>\n",
       "      <th></th>\n",
       "      <th></th>\n",
       "      <th></th>\n",
       "      <th></th>\n",
       "      <th></th>\n",
       "      <th></th>\n",
       "      <th></th>\n",
       "      <th></th>\n",
       "      <th></th>\n",
       "      <th></th>\n",
       "      <th></th>\n",
       "      <th></th>\n",
       "    </tr>\n",
       "  </thead>\n",
       "  <tbody>\n",
       "    <tr>\n",
       "      <th>ENSMUSG00000102343.2</th>\n",
       "      <td>chr1;chr1;chr1;chr1;chr1</td>\n",
       "      <td>3975962;4054448;4055383;4055383;4056370</td>\n",
       "      <td>3976357;4054521;4056207;4055574;4056438</td>\n",
       "      <td>-;-;-;-;-</td>\n",
       "      <td>1364</td>\n",
       "      <td>67.0</td>\n",
       "      <td>31.0</td>\n",
       "      <td>207.0</td>\n",
       "      <td>157.0</td>\n",
       "      <td>1.0</td>\n",
       "      <td>2.0</td>\n",
       "      <td>2.161290</td>\n",
       "      <td>0.379227</td>\n",
       "    </tr>\n",
       "    <tr>\n",
       "      <th>ENSMUSG00000103922.2</th>\n",
       "      <td>chr1</td>\n",
       "      <td>4841354</td>\n",
       "      <td>4842422</td>\n",
       "      <td>+</td>\n",
       "      <td>1069</td>\n",
       "      <td>183.0</td>\n",
       "      <td>95.0</td>\n",
       "      <td>93.0</td>\n",
       "      <td>100.0</td>\n",
       "      <td>42.0</td>\n",
       "      <td>75.0</td>\n",
       "      <td>1.926316</td>\n",
       "      <td>0.602151</td>\n",
       "    </tr>\n",
       "    <tr>\n",
       "      <th>ENSMUSG00000104046.2</th>\n",
       "      <td>chr1</td>\n",
       "      <td>5377962</td>\n",
       "      <td>5380240</td>\n",
       "      <td>+</td>\n",
       "      <td>2279</td>\n",
       "      <td>255.0</td>\n",
       "      <td>50.0</td>\n",
       "      <td>195.0</td>\n",
       "      <td>211.0</td>\n",
       "      <td>6.0</td>\n",
       "      <td>6.0</td>\n",
       "      <td>5.100000</td>\n",
       "      <td>1.082051</td>\n",
       "    </tr>\n",
       "    <tr>\n",
       "      <th>ENSMUSG00000025912.17</th>\n",
       "      <td>chr1;chr1;chr1;chr1;chr1;chr1;chr1;chr1;chr1;c...</td>\n",
       "      <td>9737640;9739762;9741804;9742437;9742437;974276...</td>\n",
       "      <td>9740237;9740237;9741983;9742541;9742541;974288...</td>\n",
       "      <td>-;-;-;-;-;-;-;-;-;-;-;-;-;-;-;-;-;-;-;-;-;-;-;...</td>\n",
       "      <td>5402</td>\n",
       "      <td>696.0</td>\n",
       "      <td>138.0</td>\n",
       "      <td>431.0</td>\n",
       "      <td>394.0</td>\n",
       "      <td>29.0</td>\n",
       "      <td>31.0</td>\n",
       "      <td>5.043478</td>\n",
       "      <td>0.855176</td>\n",
       "    </tr>\n",
       "    <tr>\n",
       "      <th>ENSMUSG00000025915.15</th>\n",
       "      <td>chr1;chr1;chr1;chr1;chr1;chr1;chr1;chr1;chr1;c...</td>\n",
       "      <td>9868332;9868368;9868368;9868383;9868410;986843...</td>\n",
       "      <td>9868471;9868471;9868471;9868471;9868471;986847...</td>\n",
       "      <td>+;+;+;+;+;+;+;+;+;+;+;+;+;+;+;+;+;+;+;+;+;+;+;...</td>\n",
       "      <td>14311</td>\n",
       "      <td>234.0</td>\n",
       "      <td>86.0</td>\n",
       "      <td>246.0</td>\n",
       "      <td>235.0</td>\n",
       "      <td>31.0</td>\n",
       "      <td>66.0</td>\n",
       "      <td>2.720930</td>\n",
       "      <td>0.448694</td>\n",
       "    </tr>\n",
       "  </tbody>\n",
       "</table>\n",
       "</div>"
      ],
      "text/plain": [
       "                                                                     Chr  \\\n",
       "Geneid                                                                     \n",
       "ENSMUSG00000102343.2                            chr1;chr1;chr1;chr1;chr1   \n",
       "ENSMUSG00000103922.2                                                chr1   \n",
       "ENSMUSG00000104046.2                                                chr1   \n",
       "ENSMUSG00000025912.17  chr1;chr1;chr1;chr1;chr1;chr1;chr1;chr1;chr1;c...   \n",
       "ENSMUSG00000025915.15  chr1;chr1;chr1;chr1;chr1;chr1;chr1;chr1;chr1;c...   \n",
       "\n",
       "                                                                   Start  \\\n",
       "Geneid                                                                     \n",
       "ENSMUSG00000102343.2             3975962;4054448;4055383;4055383;4056370   \n",
       "ENSMUSG00000103922.2                                             4841354   \n",
       "ENSMUSG00000104046.2                                             5377962   \n",
       "ENSMUSG00000025912.17  9737640;9739762;9741804;9742437;9742437;974276...   \n",
       "ENSMUSG00000025915.15  9868332;9868368;9868368;9868383;9868410;986843...   \n",
       "\n",
       "                                                                     End  \\\n",
       "Geneid                                                                     \n",
       "ENSMUSG00000102343.2             3976357;4054521;4056207;4055574;4056438   \n",
       "ENSMUSG00000103922.2                                             4842422   \n",
       "ENSMUSG00000104046.2                                             5380240   \n",
       "ENSMUSG00000025912.17  9740237;9740237;9741983;9742541;9742541;974288...   \n",
       "ENSMUSG00000025915.15  9868471;9868471;9868471;9868471;9868471;986847...   \n",
       "\n",
       "                                                                  Strand  \\\n",
       "Geneid                                                                     \n",
       "ENSMUSG00000102343.2                                           -;-;-;-;-   \n",
       "ENSMUSG00000103922.2                                                   +   \n",
       "ENSMUSG00000104046.2                                                   +   \n",
       "ENSMUSG00000025912.17  -;-;-;-;-;-;-;-;-;-;-;-;-;-;-;-;-;-;-;-;-;-;-;...   \n",
       "ENSMUSG00000025915.15  +;+;+;+;+;+;+;+;+;+;+;+;+;+;+;+;+;+;+;+;+;+;+;...   \n",
       "\n",
       "                       Length  CLIP-35L33G.bam  RNA-control.bam  \\\n",
       "Geneid                                                            \n",
       "ENSMUSG00000102343.2     1364             67.0             31.0   \n",
       "ENSMUSG00000103922.2     1069            183.0             95.0   \n",
       "ENSMUSG00000104046.2     2279            255.0             50.0   \n",
       "ENSMUSG00000025912.17    5402            696.0            138.0   \n",
       "ENSMUSG00000025915.15   14311            234.0             86.0   \n",
       "\n",
       "                       RNA-siLin28a.bam  RNA-siLuc.bam  RPF-siLin28a.bam  \\\n",
       "Geneid                                                                     \n",
       "ENSMUSG00000102343.2              207.0          157.0               1.0   \n",
       "ENSMUSG00000103922.2               93.0          100.0              42.0   \n",
       "ENSMUSG00000104046.2              195.0          211.0               6.0   \n",
       "ENSMUSG00000025912.17             431.0          394.0              29.0   \n",
       "ENSMUSG00000025915.15             246.0          235.0              31.0   \n",
       "\n",
       "                       RPF-siLuc.bam  clip_enrichment  rden_change  \n",
       "Geneid                                                              \n",
       "ENSMUSG00000102343.2             2.0         2.161290     0.379227  \n",
       "ENSMUSG00000103922.2            75.0         1.926316     0.602151  \n",
       "ENSMUSG00000104046.2             6.0         5.100000     1.082051  \n",
       "ENSMUSG00000025912.17           31.0         5.043478     0.855176  \n",
       "ENSMUSG00000025915.15           66.0         2.720930     0.448694  "
      ]
     },
     "execution_count": 39,
     "metadata": {},
     "output_type": "execute_result"
    }
   ],
   "source": [
    "cnts_rmoutlier['clip_enrichment'] = cnts_rmoutlier['CLIP-35L33G.bam'] / cnts_rmoutlier['RNA-control.bam']\n",
    "cnts_rmoutlier['rden_change'] = (cnts_rmoutlier['RPF-siLin28a.bam'] / cnts_rmoutlier['RNA-siLin28a.bam']) / (cnts_rmoutlier['RPF-siLuc.bam'] / cnts_rmoutlier['RNA-siLuc.bam'])\n",
    "cnts_rmoutlier.head()"
   ]
  },
  {
   "cell_type": "code",
   "execution_count": 41,
   "metadata": {
    "id": "vU3ce_HEFALl"
   },
   "outputs": [
    {
     "name": "stdout",
     "output_type": "stream",
     "text": [
      "                    Length  CLIP-35L33G.bam  RNA-control.bam  \\\n",
      "Length            1.000000         0.197322         0.046857   \n",
      "CLIP-35L33G.bam   0.197322         1.000000         0.325744   \n",
      "RNA-control.bam   0.046857         0.325744         1.000000   \n",
      "RNA-siLin28a.bam  0.118593         0.352347         0.790509   \n",
      "RNA-siLuc.bam     0.096070         0.462105         0.811450   \n",
      "RPF-siLin28a.bam -0.044608         0.160800         0.122424   \n",
      "RPF-siLuc.bam    -0.018299         0.054672         0.067535   \n",
      "clip_enrichment   0.142625         0.789877        -0.094689   \n",
      "rden_change      -0.002331         0.216885        -0.126441   \n",
      "\n",
      "                  RNA-siLin28a.bam  RNA-siLuc.bam  RPF-siLin28a.bam  \\\n",
      "Length                    0.118593       0.096070         -0.044608   \n",
      "CLIP-35L33G.bam           0.352347       0.462105          0.160800   \n",
      "RNA-control.bam           0.790509       0.811450          0.122424   \n",
      "RNA-siLin28a.bam          1.000000       0.850827          0.140981   \n",
      "RNA-siLuc.bam             0.850827       1.000000          0.110117   \n",
      "RPF-siLin28a.bam          0.140981       0.110117          1.000000   \n",
      "RPF-siLuc.bam             0.048095       0.051605          0.874625   \n",
      "clip_enrichment           0.010588       0.097453          0.095972   \n",
      "rden_change              -0.172616      -0.019540          0.089247   \n",
      "\n",
      "                  RPF-siLuc.bam  clip_enrichment  rden_change  \n",
      "Length                -0.018299         0.142625    -0.002331  \n",
      "CLIP-35L33G.bam        0.054672         0.789877     0.216885  \n",
      "RNA-control.bam        0.067535        -0.094689    -0.126441  \n",
      "RNA-siLin28a.bam       0.048095         0.010588    -0.172616  \n",
      "RNA-siLuc.bam          0.051605         0.097453    -0.019540  \n",
      "RPF-siLin28a.bam       0.874625         0.095972     0.089247  \n",
      "RPF-siLuc.bam          1.000000         0.023260    -0.010417  \n",
      "clip_enrichment        0.023260         1.000000     0.270742  \n",
      "rden_change           -0.010417         0.270742     1.000000  \n"
     ]
    },
    {
     "name": "stderr",
     "output_type": "stream",
     "text": [
      "/var/folders/ky/d32dbr951fndzd3t5dvg7l880000gn/T/ipykernel_69476/1456202089.py:7: FutureWarning: The default value of numeric_only in DataFrame.corr is deprecated. In a future version, it will default to False. Select only valid columns or specify the value of numeric_only to silence this warning.\n",
      "  print(cnts_rmoutlier.corr())\n"
     ]
    },
    {
     "data": {
      "image/png": "[encoded data removed]",
      "text/plain": [
       "<Figure size 500x500 with 1 Axes>"
      ]
     },
     "metadata": {},
     "output_type": "display_data"
    }
   ],
   "source": [
    "from matplotlib import pyplot as plt\n",
    "import numpy as np\n",
    "\n",
    "fig, ax = plt.subplots(1, 1, figsize=(5, 5))\n",
    "ax.scatter(np.log2(cnts_rmoutlier['clip_enrichment']),\n",
    "           np.log2(cnts_rmoutlier['rden_change']),alpha=.3,c='black', s=2)\n",
    "print(cnts_rmoutlier.corr())"
   ]
  },
  {
   "cell_type": "markdown",
   "metadata": {
    "id": "ksVjIL10mV_v"
   },
   "source": [
    "이 그림에는 문제가 많이 있습니다. 논문의 그림처럼 한 번 만들어 봅시다~"
   ]
  },
  {
   "cell_type": "markdown",
   "metadata": {
    "id": "sf6EJJ60Qbxg"
   },
   "source": [
    "## Protein localization 반영하기\n",
    "\n",
    "논문 그림에서는 protein localization을 반영해서 색으로 나타냈습니다. 이것을 한 번 구현해 봅시다. 각 gene product의 localization을 따로 구하려면 좀 귀찮기 때문에 미리 모아 두었습니다. UniProt에서 매핑된 데이터를 토대로 아주 명확한 것만 일부 정리한 것입니다. 이것도 마찬가지로 처음엔 에러가 나기도 하니까, 다시 실행해보면 거의 잘 됩니다~"
   ]
  },
  {
   "cell_type": "code",
   "execution_count": 43,
   "metadata": {
    "id": "ivb1q7_f-gl4"
   },
   "outputs": [
    {
     "data": {
      "text/html": [
       "<div>\n",
       "<style scoped>\n",
       "    .dataframe tbody tr th:only-of-type {\n",
       "        vertical-align: middle;\n",
       "    }\n",
       "\n",
       "    .dataframe tbody tr th {\n",
       "        vertical-align: top;\n",
       "    }\n",
       "\n",
       "    .dataframe thead th {\n",
       "        text-align: right;\n",
       "    }\n",
       "</style>\n",
       "<table border=\"1\" class=\"dataframe\">\n",
       "  <thead>\n",
       "    <tr style=\"text-align: right;\">\n",
       "      <th></th>\n",
       "      <th>gene_id</th>\n",
       "      <th>Gene names</th>\n",
       "      <th>type</th>\n",
       "    </tr>\n",
       "  </thead>\n",
       "  <tbody>\n",
       "    <tr>\n",
       "      <th>0</th>\n",
       "      <td>ENSMUSG00000000001</td>\n",
       "      <td>Gnai3</td>\n",
       "      <td>cytoplasm</td>\n",
       "    </tr>\n",
       "    <tr>\n",
       "      <th>1</th>\n",
       "      <td>ENSMUSG00000000028</td>\n",
       "      <td>Cdc45 Cdc45l Cdc45l2</td>\n",
       "      <td>nucleus</td>\n",
       "    </tr>\n",
       "    <tr>\n",
       "      <th>2</th>\n",
       "      <td>ENSMUSG00000000049</td>\n",
       "      <td>Apoh B2gp1</td>\n",
       "      <td>cytoplasm</td>\n",
       "    </tr>\n",
       "    <tr>\n",
       "      <th>3</th>\n",
       "      <td>ENSMUSG00000000058</td>\n",
       "      <td>Cav2</td>\n",
       "      <td>cytoplasm</td>\n",
       "    </tr>\n",
       "    <tr>\n",
       "      <th>4</th>\n",
       "      <td>ENSMUSG00000000085</td>\n",
       "      <td>Scmh1</td>\n",
       "      <td>nucleus</td>\n",
       "    </tr>\n",
       "  </tbody>\n",
       "</table>\n",
       "</div>"
      ],
      "text/plain": [
       "              gene_id            Gene names       type\n",
       "0  ENSMUSG00000000001                 Gnai3  cytoplasm\n",
       "1  ENSMUSG00000000028  Cdc45 Cdc45l Cdc45l2    nucleus\n",
       "2  ENSMUSG00000000049            Apoh B2gp1  cytoplasm\n",
       "3  ENSMUSG00000000058                  Cav2  cytoplasm\n",
       "4  ENSMUSG00000000085                 Scmh1    nucleus"
      ]
     },
     "execution_count": 43,
     "metadata": {},
     "output_type": "execute_result"
    }
   ],
   "source": [
    "import ssl\n",
    "ssl._create_default_https_context = ssl._create_unverified_context\n",
    "mouselocal = pd.read_csv('https://hyeshik.qbio.io/binfo/mouselocalization-20210507.txt', sep='\\t')\n",
    "mouselocal.head()"
   ]
  },
  {
   "cell_type": "code",
   "execution_count": 54,
   "metadata": {},
   "outputs": [],
   "source": [
    "gene_type_dict = {}\n",
    "for i in range(len(mouselocal)):\n",
    "    gene_type_dict[mouselocal.loc[i,'gene_id']] = mouselocal.loc[i,'type']"
   ]
  },
  {
   "cell_type": "markdown",
   "metadata": {
    "id": "Q9vgSzeiQxDU"
   },
   "source": [
    "이제 이 localization 데이터와 위에서 만든 scatter를 결합해서 논문 그림과 비슷하게 만들어 봅시다."
   ]
  },
  {
   "cell_type": "code",
   "execution_count": 58,
   "metadata": {
    "id": "aPPW73t4X3pp"
   },
   "outputs": [],
   "source": [
    "type_list = []\n",
    "for geneid in cnts_rmoutlier.index:\n",
    "    ID = geneid.split(\".\")[0]\n",
    "    if ID in gene_type_dict.keys():\n",
    "        type_list.append(gene_type_dict[ID])\n",
    "    else:\n",
    "        type_list.append(\"NaN\")"
   ]
  },
  {
   "cell_type": "code",
   "execution_count": 59,
   "metadata": {},
   "outputs": [
    {
     "name": "stderr",
     "output_type": "stream",
     "text": [
      "/var/folders/ky/d32dbr951fndzd3t5dvg7l880000gn/T/ipykernel_69476/1335722971.py:1: SettingWithCopyWarning: \n",
      "A value is trying to be set on a copy of a slice from a DataFrame.\n",
      "Try using .loc[row_indexer,col_indexer] = value instead\n",
      "\n",
      "See the caveats in the documentation: https://pandas.pydata.org/pandas-docs/stable/user_guide/indexing.html#returning-a-view-versus-a-copy\n",
      "  cnts_rmoutlier['type'] = type_list\n"
     ]
    }
   ],
   "source": [
    "cnts_rmoutlier['type'] = type_list"
   ]
  },
  {
   "cell_type": "code",
   "execution_count": 63,
   "metadata": {},
   "outputs": [],
   "source": [
    "colors = {'cytoplasm':'red','integral membrane':'blue','nucleus':'green','NaN':'grey'}"
   ]
  },
  {
   "cell_type": "code",
   "execution_count": 86,
   "metadata": {},
   "outputs": [
    {
     "data": {
      "text/plain": [
       "<matplotlib.legend.Legend at 0x16da078b0>"
      ]
     },
     "execution_count": 86,
     "metadata": {},
     "output_type": "execute_result"
    },
    {
     "data": {
      "image/png": "[encoded data removed]",
      "text/plain": [
       "<Figure size 500x500 with 1 Axes>"
      ]
     },
     "metadata": {},
     "output_type": "display_data"
    }
   ],
   "source": [
    "cnts_rmoutlier[cnts_rmoutlier['type'] == 'nucleus']['clip_enrichment']\n",
    "\n",
    "fig, ax = plt.subplots(1, 1, figsize=(5, 5))\n",
    "for Type in set(cnts_rmoutlier['type']):\n",
    "    ax.scatter(np.log2(cnts_rmoutlier[cnts_rmoutlier['type'] == Type]['clip_enrichment']),\n",
    "           np.log2(cnts_rmoutlier[cnts_rmoutlier['type'] == Type]['rden_change']),alpha=.3, s=2,\n",
    "          c=colors[Type],label=Type)\n",
    "ax.legend(prop={'size': 7},loc=2)"
   ]
  },
  {
   "cell_type": "code",
   "execution_count": null,
   "metadata": {},
   "outputs": [],
   "source": []
  }
 ],
 "metadata": {
  "colab": {
   "provenance": []
  },
  "kernelspec": {
   "display_name": "Python 3 (ipykernel)",
   "language": "python",
   "name": "python3"
  },
  "language_info": {
   "codemirror_mode": {
    "name": "ipython",
    "version": 3
   },
   "file_extension": ".py",
   "mimetype": "text/x-python",
   "name": "python",
   "nbconvert_exporter": "python",
   "pygments_lexer": "ipython3",
   "version": "3.10.6"
  }
 },
 "nbformat": 4,
 "nbformat_minor": 1
}
