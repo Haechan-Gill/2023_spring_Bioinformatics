{
 "cells": [
  {
   "cell_type": "code",
   "execution_count": 230,
   "id": "a94d4e2d",
   "metadata": {},
   "outputs": [],
   "source": [
    "import pandas as pd\n",
    "import numpy as np\n",
    "import re\n",
    "from Bio import SeqIO\n",
    "from hmmlearn.hmm import CategoricalHMM\n",
    "import RNA\n",
    "import logomaker\n",
    "import matplotlib.pyplot as plt"
   ]
  },
  {
   "cell_type": "code",
   "execution_count": 4,
   "id": "af612b86",
   "metadata": {},
   "outputs": [
    {
     "name": "stdout",
     "output_type": "stream",
     "text": [
      "/Users/hcgill/projects/Bioinformatics/binfo1-datapack1/pileup\n"
     ]
    }
   ],
   "source": [
    "%cd /Users/hcgill/projects/Bioinformatics/binfo1-datapack1/pileup"
   ]
  },
  {
   "cell_type": "code",
   "execution_count": 2,
   "id": "cfc4ffa4",
   "metadata": {},
   "outputs": [],
   "source": [
    "!for i in $(seq 1 19); do; samtools view -b -o CLIP-chr${i}.bam CLIP-35L33G.bam chr${i}; done"
   ]
  },
  {
   "cell_type": "code",
   "execution_count": 3,
   "id": "4f3d0426",
   "metadata": {},
   "outputs": [
    {
     "name": "stdout",
     "output_type": "stream",
     "text": [
      "[mpileup] 1 samples in 1 input files\n",
      "[mpileup] 1 samples in 1 input files\n",
      "[mpileup] 1 samples in 1 input files\n",
      "[mpileup] 1 samples in 1 input files\n",
      "[mpileup] 1 samples in 1 input files\n",
      "[mpileup] 1 samples in 1 input files\n",
      "[mpileup] 1 samples in 1 input files\n",
      "[mpileup] 1 samples in 1 input files\n",
      "[mpileup] 1 samples in 1 input files\n",
      "[mpileup] 1 samples in 1 input files\n",
      "[mpileup] 1 samples in 1 input files\n",
      "[mpileup] 1 samples in 1 input files\n",
      "[mpileup] 1 samples in 1 input files\n",
      "[mpileup] 1 samples in 1 input files\n",
      "[mpileup] 1 samples in 1 input files\n",
      "[mpileup] 1 samples in 1 input files\n",
      "[mpileup] 1 samples in 1 input files\n",
      "[mpileup] 1 samples in 1 input files\n",
      "[mpileup] 1 samples in 1 input files\n"
     ]
    }
   ],
   "source": [
    "!for i in $(seq 1 19); do; samtools mpileup CLIP-chr${i}.bam > CLIP-chr${i}.pileup; done"
   ]
  },
  {
   "cell_type": "code",
   "execution_count": 14,
   "id": "4d127707",
   "metadata": {},
   "outputs": [],
   "source": [
    "bases = ['A','T','G','C']\n",
    "def Shanon_entropy(seq):\n",
    "    cnts = [seq.count('A'), seq.count('T'), seq.count('G'), seq.count('C')]\n",
    "    N_tot = sum(cnts)\n",
    "    if N_tot == 0:\n",
    "        return 0\n",
    "    else:\n",
    "        freqs = [cnt/N_tot for cnt in cnts]\n",
    "        Shanon = [-freq*np.log2(freq) for freq in freqs if freq > 0]\n",
    "        return sum(Shanon)"
   ]
  },
  {
   "cell_type": "code",
   "execution_count": 5,
   "id": "0219c397",
   "metadata": {},
   "outputs": [],
   "source": [
    "\n",
    "pileup = pd.read_csv('CLIP-chr1.pileup', sep='\\t', names=['chrom', 'pos', '_ref', 'count', 'basereads', 'quals'])"
   ]
  },
  {
   "cell_type": "code",
   "execution_count": 10,
   "id": "e06afacb",
   "metadata": {},
   "outputs": [],
   "source": [
    "toremove = re.compile('[<>$*#^!]')\n",
    "pileup['matches'] = pileup['basereads'].apply(lambda x: toremove.sub('', x))\n",
    "pileup['N_tot'] = pileup['matches'].apply(lambda x: len(x))"
   ]
  },
  {
   "cell_type": "code",
   "execution_count": 11,
   "id": "5093c62a",
   "metadata": {},
   "outputs": [
    {
     "data": {
      "text/html": [
       "<div>\n",
       "<style scoped>\n",
       "    .dataframe tbody tr th:only-of-type {\n",
       "        vertical-align: middle;\n",
       "    }\n",
       "\n",
       "    .dataframe tbody tr th {\n",
       "        vertical-align: top;\n",
       "    }\n",
       "\n",
       "    .dataframe thead th {\n",
       "        text-align: right;\n",
       "    }\n",
       "</style>\n",
       "<table border=\"1\" class=\"dataframe\">\n",
       "  <thead>\n",
       "    <tr style=\"text-align: right;\">\n",
       "      <th></th>\n",
       "      <th>chrom</th>\n",
       "      <th>pos</th>\n",
       "      <th>_ref</th>\n",
       "      <th>count</th>\n",
       "      <th>basereads</th>\n",
       "      <th>quals</th>\n",
       "      <th>matches</th>\n",
       "      <th>N_tot</th>\n",
       "    </tr>\n",
       "  </thead>\n",
       "  <tbody>\n",
       "    <tr>\n",
       "      <th>0</th>\n",
       "      <td>chr1</td>\n",
       "      <td>3056473</td>\n",
       "      <td>N</td>\n",
       "      <td>4</td>\n",
       "      <td>^!G^!G^!G^!G</td>\n",
       "      <td>HGGI</td>\n",
       "      <td>GGGG</td>\n",
       "      <td>4</td>\n",
       "    </tr>\n",
       "    <tr>\n",
       "      <th>1</th>\n",
       "      <td>chr1</td>\n",
       "      <td>3056474</td>\n",
       "      <td>N</td>\n",
       "      <td>4</td>\n",
       "      <td>AAAA</td>\n",
       "      <td>HB@I</td>\n",
       "      <td>AAAA</td>\n",
       "      <td>4</td>\n",
       "    </tr>\n",
       "    <tr>\n",
       "      <th>2</th>\n",
       "      <td>chr1</td>\n",
       "      <td>3056475</td>\n",
       "      <td>N</td>\n",
       "      <td>4</td>\n",
       "      <td>AAAA</td>\n",
       "      <td>GG?I</td>\n",
       "      <td>AAAA</td>\n",
       "      <td>4</td>\n",
       "    </tr>\n",
       "    <tr>\n",
       "      <th>3</th>\n",
       "      <td>chr1</td>\n",
       "      <td>3056476</td>\n",
       "      <td>N</td>\n",
       "      <td>4</td>\n",
       "      <td>TTTT</td>\n",
       "      <td>HGGH</td>\n",
       "      <td>TTTT</td>\n",
       "      <td>4</td>\n",
       "    </tr>\n",
       "    <tr>\n",
       "      <th>4</th>\n",
       "      <td>chr1</td>\n",
       "      <td>3056477</td>\n",
       "      <td>N</td>\n",
       "      <td>4</td>\n",
       "      <td>GGGG</td>\n",
       "      <td>HEGI</td>\n",
       "      <td>GGGG</td>\n",
       "      <td>4</td>\n",
       "    </tr>\n",
       "  </tbody>\n",
       "</table>\n",
       "</div>"
      ],
      "text/plain": [
       "  chrom      pos _ref  count     basereads quals matches  N_tot\n",
       "0  chr1  3056473    N      4  ^!G^!G^!G^!G  HGGI    GGGG      4\n",
       "1  chr1  3056474    N      4          AAAA  HB@I    AAAA      4\n",
       "2  chr1  3056475    N      4          AAAA  GG?I    AAAA      4\n",
       "3  chr1  3056476    N      4          TTTT  HGGH    TTTT      4\n",
       "4  chr1  3056477    N      4          GGGG  HEGI    GGGG      4"
      ]
     },
     "execution_count": 11,
     "metadata": {},
     "output_type": "execute_result"
    }
   ],
   "source": [
    "pileup.head()"
   ]
  },
  {
   "cell_type": "code",
   "execution_count": 12,
   "id": "ed2ed1be",
   "metadata": {},
   "outputs": [
    {
     "data": {
      "text/plain": [
       "241072"
      ]
     },
     "execution_count": 12,
     "metadata": {},
     "output_type": "execute_result"
    }
   ],
   "source": [
    "pileup_N50 = pileup[pileup['N_tot'] >= 50].copy()\n",
    "len(pileup_N50)"
   ]
  },
  {
   "cell_type": "code",
   "execution_count": 18,
   "id": "8dd5891f",
   "metadata": {},
   "outputs": [],
   "source": [
    "Shanon_list = []\n",
    "for match in pileup_N50['matches']:\n",
    "    Shanon_list.append(Shanon_entropy(match))\n",
    "pileup_N50['Shanon'] = Shanon_list"
   ]
  },
  {
   "cell_type": "code",
   "execution_count": 21,
   "id": "929a456b",
   "metadata": {},
   "outputs": [],
   "source": [
    "pileup_N50[pileup_N50['Shanon'] > 1.2].to_csv('CLIP-chr1.shanon.tsv',sep='\\t',header=True,index=False)"
   ]
  },
  {
   "cell_type": "code",
   "execution_count": 22,
   "id": "37e5d8e3",
   "metadata": {},
   "outputs": [],
   "source": [
    "for i in range(19):\n",
    "    file_name = 'CLIP-chr' + str(i+1)\n",
    "    pileup = pd.read_csv(file_name + '.pileup', sep='\\t', names=['chrom', 'pos', '_ref', 'count', 'basereads', 'quals'])\n",
    "    toremove = re.compile('[<>$*#^!]')\n",
    "    pileup['matches'] = pileup['basereads'].apply(lambda x: toremove.sub('', x))\n",
    "    pileup['N_tot'] = pileup['matches'].apply(lambda x: len(x))\n",
    "    pileup_N50 = pileup[pileup['N_tot'] >= 50].copy()\n",
    "    Shanon_list = []\n",
    "    for match in pileup_N50['matches']:\n",
    "        Shanon_list.append(Shanon_entropy(match))\n",
    "    pileup_N50['Shanon'] = Shanon_list\n",
    "    pileup_N50[pileup_N50['Shanon'] > 1.2].to_csv(file_name+'.tsv',sep='\\t',header=True,index=False)\n",
    "    del pileup\n",
    "    del pileup_N50"
   ]
  },
  {
   "cell_type": "code",
   "execution_count": 266,
   "id": "4e056416",
   "metadata": {},
   "outputs": [],
   "source": [
    "windows = []\n",
    "raw_seqs = []\n",
    "for i in range(19):\n",
    "    fasta = \"/Users/hcgill/projects/Bioinformatics/Reference/chr\"+str(i+1)+\".fa\"\n",
    "    pileup = pd.read_csv(\"/Users/hcgill/projects/Bioinformatics/binfo1-datapack1/pileup/CLIP-chr\"+str(i+1)+\".tsv\",sep=\"\\t\")\n",
    "    with open(fasta) as handle:\n",
    "        for record in SeqIO.parse(handle,'fasta'):\n",
    "            seq = str(record.seq.upper())\n",
    "            for pos in pileup['pos']:\n",
    "                window = seq[int(pos)-9:int(pos)+9]\n",
    "                if 'N' not in window:\n",
    "                    rna, score = RNA.fold(window)\n",
    "                    hmm_seq = \"S\"\n",
    "                    for j in range(len(window)):\n",
    "                        if rna[j] == \".\":\n",
    "                            hmm_seq += window[j]\n",
    "                        else:\n",
    "                            hmm_seq += rna[j]\n",
    "                    windows.append(hmm_seq)\n",
    "                    raw_seqs.append(window)"
   ]
  },
  {
   "cell_type": "code",
   "execution_count": 103,
   "id": "2810078c",
   "metadata": {},
   "outputs": [],
   "source": [
    "f = open(\"hmm_seq.txt\", 'w')\n",
    "for window in windows:\n",
    "    print(window, file=f, end=\"\\n\")\n",
    "f.close()"
   ]
  },
  {
   "cell_type": "code",
   "execution_count": 198,
   "id": "969bf3eb",
   "metadata": {},
   "outputs": [],
   "source": [
    "transition = np.loadtxt('transition.csv',delimiter=',',dtype='float32')\n",
    "transition = transition/transition.sum(axis=1)[:,np.newaxis]\n",
    "start = np.loadtxt('start.csv',delimiter=',').tolist()\n",
    "emission = np.transpose(np.loadtxt('emission.csv',delimiter=','))"
   ]
  },
  {
   "cell_type": "code",
   "execution_count": 199,
   "id": "098a4a61",
   "metadata": {},
   "outputs": [],
   "source": [
    "def encode_seq(seq):\n",
    "    decoding_sym = {'S':0, 'A':1, 'C':2,'G':3,'T':4,'(':5,')':6}\n",
    "    seq_array = np.array([decoding_sym[x] for x in seq])\n",
    "    return seq_array"
   ]
  },
  {
   "cell_type": "code",
   "execution_count": 200,
   "id": "436af841",
   "metadata": {},
   "outputs": [],
   "source": [
    "train_seq = np.array([], dtype=int)\n",
    "train_len = np.array([], dtype=int)\n",
    "for window in windows:\n",
    "    train_seq = np.concatenate((train_seq, encode_seq(window)))\n",
    "    train_len = np.append(train_len, len(window))"
   ]
  },
  {
   "cell_type": "code",
   "execution_count": 201,
   "id": "f72cf4c8",
   "metadata": {},
   "outputs": [
    {
     "data": {
      "text/plain": [
       "array([0, 1, 4, ..., 6, 6, 6])"
      ]
     },
     "execution_count": 201,
     "metadata": {},
     "output_type": "execute_result"
    }
   ],
   "source": [
    "train_seq"
   ]
  },
  {
   "cell_type": "code",
   "execution_count": 213,
   "id": "c24c1bd0",
   "metadata": {},
   "outputs": [],
   "source": [
    "HMM = CategoricalHMM(n_components = 19, init_params='', params='et',n_features=7,n_iter=1000)\n",
    "HMM.transmat_ = transition\n",
    "HMM.emissionprob_ = emission\n",
    "HMM.startprob_ = start"
   ]
  },
  {
   "cell_type": "code",
   "execution_count": 214,
   "id": "ac8701cf",
   "metadata": {},
   "outputs": [
    {
     "data": {
      "text/html": [
       "<style>#sk-container-id-2 {color: black;background-color: white;}#sk-container-id-2 pre{padding: 0;}#sk-container-id-2 div.sk-toggleable {background-color: white;}#sk-container-id-2 label.sk-toggleable__label {cursor: pointer;display: block;width: 100%;margin-bottom: 0;padding: 0.3em;box-sizing: border-box;text-align: center;}#sk-container-id-2 label.sk-toggleable__label-arrow:before {content: \"▸\";float: left;margin-right: 0.25em;color: #696969;}#sk-container-id-2 label.sk-toggleable__label-arrow:hover:before {color: black;}#sk-container-id-2 div.sk-estimator:hover label.sk-toggleable__label-arrow:before {color: black;}#sk-container-id-2 div.sk-toggleable__content {max-height: 0;max-width: 0;overflow: hidden;text-align: left;background-color: #f0f8ff;}#sk-container-id-2 div.sk-toggleable__content pre {margin: 0.2em;color: black;border-radius: 0.25em;background-color: #f0f8ff;}#sk-container-id-2 input.sk-toggleable__control:checked~div.sk-toggleable__content {max-height: 200px;max-width: 100%;overflow: auto;}#sk-container-id-2 input.sk-toggleable__control:checked~label.sk-toggleable__label-arrow:before {content: \"▾\";}#sk-container-id-2 div.sk-estimator input.sk-toggleable__control:checked~label.sk-toggleable__label {background-color: #d4ebff;}#sk-container-id-2 div.sk-label input.sk-toggleable__control:checked~label.sk-toggleable__label {background-color: #d4ebff;}#sk-container-id-2 input.sk-hidden--visually {border: 0;clip: rect(1px 1px 1px 1px);clip: rect(1px, 1px, 1px, 1px);height: 1px;margin: -1px;overflow: hidden;padding: 0;position: absolute;width: 1px;}#sk-container-id-2 div.sk-estimator {font-family: monospace;background-color: #f0f8ff;border: 1px dotted black;border-radius: 0.25em;box-sizing: border-box;margin-bottom: 0.5em;}#sk-container-id-2 div.sk-estimator:hover {background-color: #d4ebff;}#sk-container-id-2 div.sk-parallel-item::after {content: \"\";width: 100%;border-bottom: 1px solid gray;flex-grow: 1;}#sk-container-id-2 div.sk-label:hover label.sk-toggleable__label {background-color: #d4ebff;}#sk-container-id-2 div.sk-serial::before {content: \"\";position: absolute;border-left: 1px solid gray;box-sizing: border-box;top: 0;bottom: 0;left: 50%;z-index: 0;}#sk-container-id-2 div.sk-serial {display: flex;flex-direction: column;align-items: center;background-color: white;padding-right: 0.2em;padding-left: 0.2em;position: relative;}#sk-container-id-2 div.sk-item {position: relative;z-index: 1;}#sk-container-id-2 div.sk-parallel {display: flex;align-items: stretch;justify-content: center;background-color: white;position: relative;}#sk-container-id-2 div.sk-item::before, #sk-container-id-2 div.sk-parallel-item::before {content: \"\";position: absolute;border-left: 1px solid gray;box-sizing: border-box;top: 0;bottom: 0;left: 50%;z-index: -1;}#sk-container-id-2 div.sk-parallel-item {display: flex;flex-direction: column;z-index: 1;position: relative;background-color: white;}#sk-container-id-2 div.sk-parallel-item:first-child::after {align-self: flex-end;width: 50%;}#sk-container-id-2 div.sk-parallel-item:last-child::after {align-self: flex-start;width: 50%;}#sk-container-id-2 div.sk-parallel-item:only-child::after {width: 0;}#sk-container-id-2 div.sk-dashed-wrapped {border: 1px dashed gray;margin: 0 0.4em 0.5em 0.4em;box-sizing: border-box;padding-bottom: 0.4em;background-color: white;}#sk-container-id-2 div.sk-label label {font-family: monospace;font-weight: bold;display: inline-block;line-height: 1.2em;}#sk-container-id-2 div.sk-label-container {text-align: center;}#sk-container-id-2 div.sk-container {/* jupyter's `normalize.less` sets `[hidden] { display: none; }` but bootstrap.min.css set `[hidden] { display: none !important; }` so we also need the `!important` here to be able to override the default hidden behavior on the sphinx rendered scikit-learn.org. See: https://github.com/scikit-learn/scikit-learn/issues/21755 */display: inline-block !important;position: relative;}#sk-container-id-2 div.sk-text-repr-fallback {display: none;}</style><div id=\"sk-container-id-2\" class=\"sk-top-container\"><div class=\"sk-text-repr-fallback\"><pre>CategoricalHMM(init_params=&#x27;&#x27;, n_components=19, n_features=7, n_iter=1000,\n",
       "               params=&#x27;et&#x27;, random_state=RandomState(MT19937) at 0x1080FEA40)</pre><b>In a Jupyter environment, please rerun this cell to show the HTML representation or trust the notebook. <br />On GitHub, the HTML representation is unable to render, please try loading this page with nbviewer.org.</b></div><div class=\"sk-container\" hidden><div class=\"sk-item\"><div class=\"sk-estimator sk-toggleable\"><input class=\"sk-toggleable__control sk-hidden--visually\" id=\"sk-estimator-id-2\" type=\"checkbox\" checked><label for=\"sk-estimator-id-2\" class=\"sk-toggleable__label sk-toggleable__label-arrow\">CategoricalHMM</label><div class=\"sk-toggleable__content\"><pre>CategoricalHMM(init_params=&#x27;&#x27;, n_components=19, n_features=7, n_iter=1000,\n",
       "               params=&#x27;et&#x27;, random_state=RandomState(MT19937) at 0x1080FEA40)</pre></div></div></div></div></div>"
      ],
      "text/plain": [
       "CategoricalHMM(init_params='', n_components=19, n_features=7, n_iter=1000,\n",
       "               params='et', random_state=RandomState(MT19937) at 0x1080FEA40)"
      ]
     },
     "execution_count": 214,
     "metadata": {},
     "output_type": "execute_result"
    }
   ],
   "source": [
    "HMM.fit(train_seq.reshape(-1,1),train_len)"
   ]
  },
  {
   "cell_type": "code",
   "execution_count": 215,
   "id": "6289483f",
   "metadata": {},
   "outputs": [
    {
     "data": {
      "text/plain": [
       "array([[1.00000000e+000, 0.00000000e+000, 0.00000000e+000,\n",
       "        0.00000000e+000, 0.00000000e+000, 0.00000000e+000,\n",
       "        0.00000000e+000],\n",
       "       [0.00000000e+000, 2.81206467e-001, 1.48384825e-001,\n",
       "        1.84821056e-001, 2.50889642e-001, 1.34698010e-001,\n",
       "        0.00000000e+000],\n",
       "       [0.00000000e+000, 1.59324484e-001, 6.86052080e-002,\n",
       "        9.25207540e-002, 1.05320465e-001, 5.74229089e-001,\n",
       "        0.00000000e+000],\n",
       "       [0.00000000e+000, 6.39347638e-002, 2.67838100e-002,\n",
       "        4.01308880e-002, 3.80754258e-002, 8.31075112e-001,\n",
       "        0.00000000e+000],\n",
       "       [0.00000000e+000, 2.32953679e-002, 4.40639229e-003,\n",
       "        1.85515083e-002, 1.56588565e-002, 9.38087875e-001,\n",
       "        0.00000000e+000],\n",
       "       [0.00000000e+000, 2.64687219e-002, 4.87416810e-003,\n",
       "        2.80822152e-002, 1.84118198e-002, 9.22163075e-001,\n",
       "        0.00000000e+000],\n",
       "       [0.00000000e+000, 1.09371331e-001, 2.87955300e-002,\n",
       "        9.53757352e-002, 6.89709728e-002, 6.97486431e-001,\n",
       "        0.00000000e+000],\n",
       "       [0.00000000e+000, 3.70443004e-001, 6.95538174e-002,\n",
       "        2.62155321e-001, 1.13301702e-001, 1.84546156e-001,\n",
       "        0.00000000e+000],\n",
       "       [0.00000000e+000, 4.42427323e-001, 6.87728034e-002,\n",
       "        2.31806693e-001, 2.48457117e-001, 8.53606337e-003,\n",
       "        0.00000000e+000],\n",
       "       [0.00000000e+000, 2.30976706e-002, 3.63700211e-002,\n",
       "        9.35229552e-001, 5.30275578e-003, 0.00000000e+000,\n",
       "        0.00000000e+000],\n",
       "       [0.00000000e+000, 5.32176482e-001, 1.05216012e-001,\n",
       "        7.36272068e-002, 2.88980299e-001, 0.00000000e+000,\n",
       "        3.17261627e-115],\n",
       "       [0.00000000e+000, 5.79055553e-009, 4.75082618e-003,\n",
       "        9.70024995e-001, 2.34213791e-002, 0.00000000e+000,\n",
       "        1.80279385e-003],\n",
       "       [0.00000000e+000, 4.01951302e-001, 1.91327261e-001,\n",
       "        6.37570662e-002, 3.42964371e-001, 0.00000000e+000,\n",
       "        4.13455007e-064],\n",
       "       [0.00000000e+000, 4.47924590e-002, 5.48072210e-003,\n",
       "        3.11962583e-002, 2.70489126e-002, 0.00000000e+000,\n",
       "        8.91481648e-001],\n",
       "       [0.00000000e+000, 1.35565864e-002, 7.41653228e-003,\n",
       "        1.99727044e-002, 1.31054379e-002, 0.00000000e+000,\n",
       "        9.45948739e-001],\n",
       "       [0.00000000e+000, 2.01156828e-062, 2.29015324e-054,\n",
       "        1.81916573e-002, 7.22116494e-011, 0.00000000e+000,\n",
       "        9.81808343e-001],\n",
       "       [0.00000000e+000, 1.25534372e-001, 3.12337488e-002,\n",
       "        4.74167388e-002, 2.01724407e-002, 0.00000000e+000,\n",
       "        7.75642700e-001],\n",
       "       [0.00000000e+000, 2.03151327e-001, 2.37838759e-001,\n",
       "        2.29656879e-001, 3.29353035e-001, 0.00000000e+000,\n",
       "        4.53265601e-059],\n",
       "       [0.00000000e+000, 3.49112479e-001, 1.04588174e-001,\n",
       "        3.20428802e-001, 2.25870545e-001, 0.00000000e+000,\n",
       "        0.00000000e+000]])"
      ]
     },
     "execution_count": 215,
     "metadata": {},
     "output_type": "execute_result"
    }
   ],
   "source": [
    "HMM.emissionprob_"
   ]
  },
  {
   "cell_type": "code",
   "execution_count": 216,
   "id": "6eb35313",
   "metadata": {},
   "outputs": [],
   "source": [
    "df_emission = pd.DataFrame(HMM.emissionprob_)\n"
   ]
  },
  {
   "cell_type": "code",
   "execution_count": 265,
   "id": "bcfec1ed",
   "metadata": {},
   "outputs": [],
   "source": [
    "df_emission.columns = ['S','A','C','G','U','5','3']\n",
    "df_emission.to_csv('HMM_emission.tsv',sep='\\t',index=False,header=None)\n",
    "df_emission_sub = df_emission[['A','C','G','U','5','3']]"
   ]
  },
  {
   "cell_type": "code",
   "execution_count": 263,
   "id": "73635b26",
   "metadata": {},
   "outputs": [
    {
     "data": {
      "image/png": "[encoded data removed]",
      "text/plain": [
       "<Figure size 1000x250 with 1 Axes>"
      ]
     },
     "metadata": {},
     "output_type": "display_data"
    }
   ],
   "source": [
    "color_scheme = {\n",
    "    'A' : [0,0,.8],\n",
    "    'C' : [0,1,0],\n",
    "    'G' : [1,.9,0],\n",
    "    'U' : [.7,0,1],\n",
    "    '5' : [1,.0,.0],\n",
    "    '3' : [1,.0,.0]\n",
    "}\n",
    "ss_logo = logomaker.Logo(df_emission_sub, color_scheme=color_scheme)\n",
    "ss_logo.ax.set_xlim(0,19)\n",
    "ss_logo.ax.set_xticks(range(1,len(df_emission_sub)))\n",
    "ss_logo.ax.set_xticklabels('%+d'%x for x in range(-8,10))\n",
    "ss_logo.ax.set_ylabel('probability')\n",
    "ss_logo.ax.set_xlabel('Distance from cross-linked nucleotide (nt)')\n",
    "#plt.show()\n",
    "plt.savefig('Logo.jpg')"
   ]
  },
  {
   "cell_type": "code",
   "execution_count": 232,
   "id": "6f38c659",
   "metadata": {},
   "outputs": [
    {
     "data": {
      "text/html": [
       "<div>\n",
       "<style scoped>\n",
       "    .dataframe tbody tr th:only-of-type {\n",
       "        vertical-align: middle;\n",
       "    }\n",
       "\n",
       "    .dataframe tbody tr th {\n",
       "        vertical-align: top;\n",
       "    }\n",
       "\n",
       "    .dataframe thead th {\n",
       "        text-align: right;\n",
       "    }\n",
       "</style>\n",
       "<table border=\"1\" class=\"dataframe\">\n",
       "  <thead>\n",
       "    <tr style=\"text-align: right;\">\n",
       "      <th></th>\n",
       "      <th>A</th>\n",
       "      <th>C</th>\n",
       "      <th>G</th>\n",
       "      <th>U</th>\n",
       "      <th>5</th>\n",
       "      <th>3</th>\n",
       "    </tr>\n",
       "  </thead>\n",
       "  <tbody>\n",
       "    <tr>\n",
       "      <th>0</th>\n",
       "      <td>0.000000e+00</td>\n",
       "      <td>0.000000e+00</td>\n",
       "      <td>0.000000</td>\n",
       "      <td>0.000000e+00</td>\n",
       "      <td>0.000000</td>\n",
       "      <td>0.000000e+00</td>\n",
       "    </tr>\n",
       "    <tr>\n",
       "      <th>1</th>\n",
       "      <td>2.812065e-01</td>\n",
       "      <td>1.483848e-01</td>\n",
       "      <td>0.184821</td>\n",
       "      <td>2.508896e-01</td>\n",
       "      <td>0.134698</td>\n",
       "      <td>0.000000e+00</td>\n",
       "    </tr>\n",
       "    <tr>\n",
       "      <th>2</th>\n",
       "      <td>1.593245e-01</td>\n",
       "      <td>6.860521e-02</td>\n",
       "      <td>0.092521</td>\n",
       "      <td>1.053205e-01</td>\n",
       "      <td>0.574229</td>\n",
       "      <td>0.000000e+00</td>\n",
       "    </tr>\n",
       "    <tr>\n",
       "      <th>3</th>\n",
       "      <td>6.393476e-02</td>\n",
       "      <td>2.678381e-02</td>\n",
       "      <td>0.040131</td>\n",
       "      <td>3.807543e-02</td>\n",
       "      <td>0.831075</td>\n",
       "      <td>0.000000e+00</td>\n",
       "    </tr>\n",
       "    <tr>\n",
       "      <th>4</th>\n",
       "      <td>2.329537e-02</td>\n",
       "      <td>4.406392e-03</td>\n",
       "      <td>0.018552</td>\n",
       "      <td>1.565886e-02</td>\n",
       "      <td>0.938088</td>\n",
       "      <td>0.000000e+00</td>\n",
       "    </tr>\n",
       "    <tr>\n",
       "      <th>5</th>\n",
       "      <td>2.646872e-02</td>\n",
       "      <td>4.874168e-03</td>\n",
       "      <td>0.028082</td>\n",
       "      <td>1.841182e-02</td>\n",
       "      <td>0.922163</td>\n",
       "      <td>0.000000e+00</td>\n",
       "    </tr>\n",
       "    <tr>\n",
       "      <th>6</th>\n",
       "      <td>1.093713e-01</td>\n",
       "      <td>2.879553e-02</td>\n",
       "      <td>0.095376</td>\n",
       "      <td>6.897097e-02</td>\n",
       "      <td>0.697486</td>\n",
       "      <td>0.000000e+00</td>\n",
       "    </tr>\n",
       "    <tr>\n",
       "      <th>7</th>\n",
       "      <td>3.704430e-01</td>\n",
       "      <td>6.955382e-02</td>\n",
       "      <td>0.262155</td>\n",
       "      <td>1.133017e-01</td>\n",
       "      <td>0.184546</td>\n",
       "      <td>0.000000e+00</td>\n",
       "    </tr>\n",
       "    <tr>\n",
       "      <th>8</th>\n",
       "      <td>4.424273e-01</td>\n",
       "      <td>6.877280e-02</td>\n",
       "      <td>0.231807</td>\n",
       "      <td>2.484571e-01</td>\n",
       "      <td>0.008536</td>\n",
       "      <td>0.000000e+00</td>\n",
       "    </tr>\n",
       "    <tr>\n",
       "      <th>9</th>\n",
       "      <td>2.309767e-02</td>\n",
       "      <td>3.637002e-02</td>\n",
       "      <td>0.935230</td>\n",
       "      <td>5.302756e-03</td>\n",
       "      <td>0.000000</td>\n",
       "      <td>0.000000e+00</td>\n",
       "    </tr>\n",
       "    <tr>\n",
       "      <th>10</th>\n",
       "      <td>5.321765e-01</td>\n",
       "      <td>1.052160e-01</td>\n",
       "      <td>0.073627</td>\n",
       "      <td>2.889803e-01</td>\n",
       "      <td>0.000000</td>\n",
       "      <td>3.172616e-115</td>\n",
       "    </tr>\n",
       "    <tr>\n",
       "      <th>11</th>\n",
       "      <td>5.790556e-09</td>\n",
       "      <td>4.750826e-03</td>\n",
       "      <td>0.970025</td>\n",
       "      <td>2.342138e-02</td>\n",
       "      <td>0.000000</td>\n",
       "      <td>1.802794e-03</td>\n",
       "    </tr>\n",
       "    <tr>\n",
       "      <th>12</th>\n",
       "      <td>4.019513e-01</td>\n",
       "      <td>1.913273e-01</td>\n",
       "      <td>0.063757</td>\n",
       "      <td>3.429644e-01</td>\n",
       "      <td>0.000000</td>\n",
       "      <td>4.134550e-64</td>\n",
       "    </tr>\n",
       "    <tr>\n",
       "      <th>13</th>\n",
       "      <td>4.479246e-02</td>\n",
       "      <td>5.480722e-03</td>\n",
       "      <td>0.031196</td>\n",
       "      <td>2.704891e-02</td>\n",
       "      <td>0.000000</td>\n",
       "      <td>8.914816e-01</td>\n",
       "    </tr>\n",
       "    <tr>\n",
       "      <th>14</th>\n",
       "      <td>1.355659e-02</td>\n",
       "      <td>7.416532e-03</td>\n",
       "      <td>0.019973</td>\n",
       "      <td>1.310544e-02</td>\n",
       "      <td>0.000000</td>\n",
       "      <td>9.459487e-01</td>\n",
       "    </tr>\n",
       "    <tr>\n",
       "      <th>15</th>\n",
       "      <td>2.011568e-62</td>\n",
       "      <td>2.290153e-54</td>\n",
       "      <td>0.018192</td>\n",
       "      <td>7.221165e-11</td>\n",
       "      <td>0.000000</td>\n",
       "      <td>9.818083e-01</td>\n",
       "    </tr>\n",
       "    <tr>\n",
       "      <th>16</th>\n",
       "      <td>1.255344e-01</td>\n",
       "      <td>3.123375e-02</td>\n",
       "      <td>0.047417</td>\n",
       "      <td>2.017244e-02</td>\n",
       "      <td>0.000000</td>\n",
       "      <td>7.756427e-01</td>\n",
       "    </tr>\n",
       "    <tr>\n",
       "      <th>17</th>\n",
       "      <td>2.031513e-01</td>\n",
       "      <td>2.378388e-01</td>\n",
       "      <td>0.229657</td>\n",
       "      <td>3.293530e-01</td>\n",
       "      <td>0.000000</td>\n",
       "      <td>4.532656e-59</td>\n",
       "    </tr>\n",
       "    <tr>\n",
       "      <th>18</th>\n",
       "      <td>3.491125e-01</td>\n",
       "      <td>1.045882e-01</td>\n",
       "      <td>0.320429</td>\n",
       "      <td>2.258705e-01</td>\n",
       "      <td>0.000000</td>\n",
       "      <td>0.000000e+00</td>\n",
       "    </tr>\n",
       "  </tbody>\n",
       "</table>\n",
       "</div>"
      ],
      "text/plain": [
       "               A             C         G             U         5  \\\n",
       "0   0.000000e+00  0.000000e+00  0.000000  0.000000e+00  0.000000   \n",
       "1   2.812065e-01  1.483848e-01  0.184821  2.508896e-01  0.134698   \n",
       "2   1.593245e-01  6.860521e-02  0.092521  1.053205e-01  0.574229   \n",
       "3   6.393476e-02  2.678381e-02  0.040131  3.807543e-02  0.831075   \n",
       "4   2.329537e-02  4.406392e-03  0.018552  1.565886e-02  0.938088   \n",
       "5   2.646872e-02  4.874168e-03  0.028082  1.841182e-02  0.922163   \n",
       "6   1.093713e-01  2.879553e-02  0.095376  6.897097e-02  0.697486   \n",
       "7   3.704430e-01  6.955382e-02  0.262155  1.133017e-01  0.184546   \n",
       "8   4.424273e-01  6.877280e-02  0.231807  2.484571e-01  0.008536   \n",
       "9   2.309767e-02  3.637002e-02  0.935230  5.302756e-03  0.000000   \n",
       "10  5.321765e-01  1.052160e-01  0.073627  2.889803e-01  0.000000   \n",
       "11  5.790556e-09  4.750826e-03  0.970025  2.342138e-02  0.000000   \n",
       "12  4.019513e-01  1.913273e-01  0.063757  3.429644e-01  0.000000   \n",
       "13  4.479246e-02  5.480722e-03  0.031196  2.704891e-02  0.000000   \n",
       "14  1.355659e-02  7.416532e-03  0.019973  1.310544e-02  0.000000   \n",
       "15  2.011568e-62  2.290153e-54  0.018192  7.221165e-11  0.000000   \n",
       "16  1.255344e-01  3.123375e-02  0.047417  2.017244e-02  0.000000   \n",
       "17  2.031513e-01  2.378388e-01  0.229657  3.293530e-01  0.000000   \n",
       "18  3.491125e-01  1.045882e-01  0.320429  2.258705e-01  0.000000   \n",
       "\n",
       "                3  \n",
       "0    0.000000e+00  \n",
       "1    0.000000e+00  \n",
       "2    0.000000e+00  \n",
       "3    0.000000e+00  \n",
       "4    0.000000e+00  \n",
       "5    0.000000e+00  \n",
       "6    0.000000e+00  \n",
       "7    0.000000e+00  \n",
       "8    0.000000e+00  \n",
       "9    0.000000e+00  \n",
       "10  3.172616e-115  \n",
       "11   1.802794e-03  \n",
       "12   4.134550e-64  \n",
       "13   8.914816e-01  \n",
       "14   9.459487e-01  \n",
       "15   9.818083e-01  \n",
       "16   7.756427e-01  \n",
       "17   4.532656e-59  \n",
       "18   0.000000e+00  "
      ]
     },
     "execution_count": 232,
     "metadata": {},
     "output_type": "execute_result"
    }
   ],
   "source": [
    "df_emission_sub"
   ]
  }
 ],
 "metadata": {
  "kernelspec": {
   "display_name": "Python 3 (ipykernel)",
   "language": "python",
   "name": "python3"
  },
  "language_info": {
   "codemirror_mode": {
    "name": "ipython",
    "version": 3
   },
   "file_extension": ".py",
   "mimetype": "text/x-python",
   "name": "python",
   "nbconvert_exporter": "python",
   "pygments_lexer": "ipython3",
   "version": "3.10.6"
  }
 },
 "nbformat": 4,
 "nbformat_minor": 5
}
